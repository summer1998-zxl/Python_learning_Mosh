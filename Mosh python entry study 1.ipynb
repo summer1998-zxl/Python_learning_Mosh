{
 "cells": [
  {
   "cell_type": "markdown",
   "id": "5263d5da",
   "metadata": {},
   "source": [
    "命令模式下，按H查看所有快捷键\n",
    "Python is case sensitive"
   ]
  },
  {
   "cell_type": "markdown",
   "id": "b148f856",
   "metadata": {},
   "source": [
    "## Lesson 1: Getting Started"
   ]
  },
  {
   "cell_type": "code",
   "execution_count": 2,
   "id": "4c81573f",
   "metadata": {},
   "outputs": [],
   "source": [
    "#变量命名: 可读性；使用下划线；字母小写\n",
    "x = 1"
   ]
  },
  {
   "cell_type": "markdown",
   "id": "5762eaec",
   "metadata": {},
   "source": [
    "## Lesson 2: Primitive Types"
   ]
  },
  {
   "cell_type": "markdown",
   "id": "83ae4b03",
   "metadata": {},
   "source": [
    "### 1. Number"
   ]
  },
  {
   "cell_type": "markdown",
   "id": "13527e60",
   "metadata": {},
   "source": [
    "#### 1.1 Integar; float; complex"
   ]
  },
  {
   "cell_type": "markdown",
   "id": "eb0283d8",
   "metadata": {},
   "source": [
    "#### 1.2  Math Operation"
   ]
  },
  {
   "cell_type": "code",
   "execution_count": 29,
   "id": "2539e454",
   "metadata": {
    "scrolled": true
   },
   "outputs": [
    {
     "name": "stdout",
     "output_type": "stream",
     "text": [
      "3.3333333333333335\n",
      "3\n",
      "1\n",
      "1000\n"
     ]
    }
   ],
   "source": [
    "print(10/3)\n",
    "print(10//3) #取整除法\n",
    "print(10 % 3) #取余\n",
    "print(10 ** 3) #幂"
   ]
  },
  {
   "cell_type": "markdown",
   "id": "8a475876",
   "metadata": {},
   "source": [
    "#### 1.3 math module"
   ]
  },
  {
   "cell_type": "code",
   "execution_count": 35,
   "id": "8dedd4a0",
   "metadata": {},
   "outputs": [
    {
     "data": {
      "text/plain": [
       "-1.0"
      ]
     },
     "execution_count": 35,
     "metadata": {},
     "output_type": "execute_result"
    }
   ],
   "source": [
    "import math\n",
    "math.cos(math.pi)"
   ]
  },
  {
   "cell_type": "markdown",
   "id": "23944444",
   "metadata": {},
   "source": [
    "### 2. Boolean: True/False"
   ]
  },
  {
   "cell_type": "markdown",
   "id": "8bb4d1dc",
   "metadata": {},
   "source": [
    "### 3. String"
   ]
  },
  {
   "cell_type": "markdown",
   "id": "320fc6b4",
   "metadata": {},
   "source": [
    "#### 3.1 Index"
   ]
  },
  {
   "cell_type": "code",
   "execution_count": 7,
   "id": "8b3a0e66",
   "metadata": {},
   "outputs": [
    {
     "name": "stdout",
     "output_type": "stream",
     "text": [
      "P g Pyt\n"
     ]
    }
   ],
   "source": [
    "#python的索引从左到右是从0开始，从右到左是从-1开始\n",
    "#course[0:3]输出索引从0到2的字符，不包含索引为3的字符\n",
    "print(course[0], course[-1], course[0:3])\n",
    "course = \"Python Pragramming\""
   ]
  },
  {
   "cell_type": "markdown",
   "id": "cba9305b",
   "metadata": {},
   "source": [
    "#### 3.2 backslash"
   ]
  },
  {
   "cell_type": "code",
   "execution_count": 12,
   "id": "104f944a",
   "metadata": {},
   "outputs": [
    {
     "name": "stdout",
     "output_type": "stream",
     "text": [
      "Python \"Pragramming\n",
      "Python \n",
      "Pragramming\n"
     ]
    }
   ],
   "source": [
    "#backslash: escape character \\\n",
    "course = \"Python \\\"Pragramming\"\n",
    "print(course)\n",
    "#/n 分行\n",
    "course = \"Python \\nPragramming\"\n",
    "print(course)"
   ]
  },
  {
   "cell_type": "markdown",
   "id": "6fb32532",
   "metadata": {},
   "source": [
    "#### 3.3 format string"
   ]
  },
  {
   "cell_type": "code",
   "execution_count": 15,
   "id": "c03fbe9e",
   "metadata": {},
   "outputs": [
    {
     "name": "stdout",
     "output_type": "stream",
     "text": [
      "Xile Zhang\n"
     ]
    }
   ],
   "source": [
    "first = \"Xile\"\n",
    "last = \"Zhang\"\n",
    "full = f\"{first} {last}\"\n",
    "print(full)"
   ]
  },
  {
   "cell_type": "markdown",
   "id": "5a9fe3a4",
   "metadata": {},
   "source": [
    "#### 3.4 method"
   ]
  },
  {
   "cell_type": "code",
   "execution_count": 22,
   "id": "50f88026",
   "metadata": {
    "scrolled": true
   },
   "outputs": [
    {
     "name": "stdout",
     "output_type": "stream",
     "text": [
      "     PYTHON PRAGRAMMING\n",
      "     Python Pragramming\n"
     ]
    }
   ],
   "source": [
    "print(course.upper())\n",
    "print(course.title())"
   ]
  },
  {
   "cell_type": "code",
   "execution_count": 21,
   "id": "3b6c93c6",
   "metadata": {},
   "outputs": [
    {
     "name": "stdout",
     "output_type": "stream",
     "text": [
      "Python Pragramming\n"
     ]
    }
   ],
   "source": [
    "#strip移除开头和结尾的空格\n",
    "course = \"     Python Pragramming\"\n",
    "print(course.strip())"
   ]
  },
  {
   "cell_type": "code",
   "execution_count": 25,
   "id": "0cd262cb",
   "metadata": {},
   "outputs": [
    {
     "name": "stdout",
     "output_type": "stream",
     "text": [
      "5\n",
      "-1\n"
     ]
    }
   ],
   "source": [
    "print(course.find(\"Pyt\"))\n",
    "#返回-1表示不存在\n",
    "print(course.find(\"pyt\"))"
   ]
  },
  {
   "cell_type": "markdown",
   "id": "268ece29",
   "metadata": {},
   "source": [
    "### 4. Type之间的相互转换"
   ]
  },
  {
   "cell_type": "code",
   "execution_count": 37,
   "id": "c3ecd966",
   "metadata": {},
   "outputs": [
    {
     "data": {
      "text/plain": [
       "'1'"
      ]
     },
     "execution_count": 37,
     "metadata": {},
     "output_type": "execute_result"
    }
   ],
   "source": [
    "x = 1\n",
    "int(x)\n",
    "float(x)\n",
    "str(x)"
   ]
  },
  {
   "cell_type": "code",
   "execution_count": 46,
   "id": "27c2c961",
   "metadata": {},
   "outputs": [
    {
     "name": "stdout",
     "output_type": "stream",
     "text": [
      "False\n",
      "True\n",
      "True\n"
     ]
    }
   ],
   "source": [
    "#bool():输入“”/0/None会输出False; 其他情况下都输出True\n",
    "print(bool(None))\n",
    "print(bool(\"None\"))\n",
    "print(bool(\"False\"))"
   ]
  },
  {
   "cell_type": "code",
   "execution_count": 40,
   "id": "5c0564a2",
   "metadata": {
    "scrolled": false
   },
   "outputs": [
    {
     "name": "stdout",
     "output_type": "stream",
     "text": [
      "x:3\n",
      "x: 3, y: 4\n"
     ]
    }
   ],
   "source": [
    "x = input(\"x:\")\n",
    "y = int(x) + 1\n",
    "print(f\"x: {x}, y: {y}\")"
   ]
  },
  {
   "cell_type": "markdown",
   "id": "7c6807a2",
   "metadata": {},
   "source": [
    "## Lesson 3: Control Flow"
   ]
  },
  {
   "cell_type": "markdown",
   "id": "23c6c96a",
   "metadata": {},
   "source": [
    "### 1. comparison operator"
   ]
  },
  {
   "cell_type": "code",
   "execution_count": 49,
   "id": "5ef9afce",
   "metadata": {
    "scrolled": false
   },
   "outputs": [
    {
     "name": "stdout",
     "output_type": "stream",
     "text": [
      "True\n",
      "False\n"
     ]
    }
   ],
   "source": [
    "print(\"bag\" > \"apple\")\n",
    "print(\"bag\" == \"BAG\")"
   ]
  },
  {
   "cell_type": "markdown",
   "id": "d45b9539",
   "metadata": {},
   "source": [
    "### 2. Conditional Statement"
   ]
  },
  {
   "cell_type": "code",
   "execution_count": 53,
   "id": "cfdbd723",
   "metadata": {},
   "outputs": [
    {
     "name": "stdout",
     "output_type": "stream",
     "text": [
      "It's nice\n"
     ]
    }
   ],
   "source": [
    "temperature = 25\n",
    "if temperature > 30:\n",
    "    print(\"It's warm\")\n",
    "elif temperature > 20:\n",
    "    print(\"It's nice\")\n",
    "else:\n",
    "    print(\"It's cold\")"
   ]
  },
  {
   "cell_type": "markdown",
   "id": "0a171b42",
   "metadata": {},
   "source": [
    "#### 2.2 Ternary Operater"
   ]
  },
  {
   "cell_type": "code",
   "execution_count": 55,
   "id": "b0ce6791",
   "metadata": {},
   "outputs": [
    {
     "name": "stdout",
     "output_type": "stream",
     "text": [
      "Eligible\n"
     ]
    }
   ],
   "source": [
    "age = 22\n",
    "message = \"Eligible\" if age >= 18 else \"Not eligible\"\n",
    "print(message)"
   ]
  },
  {
   "cell_type": "markdown",
   "id": "0d8aa704",
   "metadata": {},
   "source": [
    "#### 2.2 Logical Operater"
   ]
  },
  {
   "cell_type": "code",
   "execution_count": 57,
   "id": "2bdf547c",
   "metadata": {},
   "outputs": [
    {
     "name": "stdout",
     "output_type": "stream",
     "text": [
      "Eligible\n"
     ]
    }
   ],
   "source": [
    "high_income = True\n",
    "good_credit = True\n",
    "student = False\n",
    "if (high_income or good_credit) and not student:\n",
    "    print(\"Eligible\")"
   ]
  },
  {
   "cell_type": "markdown",
   "id": "11e3c4dd",
   "metadata": {},
   "source": [
    "#### 2.3 Chaining Comparison Operators"
   ]
  },
  {
   "cell_type": "code",
   "execution_count": 58,
   "id": "e2883991",
   "metadata": {},
   "outputs": [
    {
     "name": "stdout",
     "output_type": "stream",
     "text": [
      "Eligible\n"
     ]
    }
   ],
   "source": [
    "age = 22\n",
    "if 18 <= age <65:\n",
    "    print(\"Eligible\")"
   ]
  },
  {
   "cell_type": "markdown",
   "id": "6bdaaac2",
   "metadata": {},
   "source": [
    "### 3. For-loops"
   ]
  },
  {
   "cell_type": "code",
   "execution_count": 63,
   "id": "fbfa97c6",
   "metadata": {},
   "outputs": [
    {
     "name": "stdout",
     "output_type": "stream",
     "text": [
      "Attempt 1 .\n",
      "Attempt 3 ...\n",
      "Attempt 5 .....\n",
      "Attempt 7 .......\n",
      "Attempt 9 .........\n"
     ]
    }
   ],
   "source": [
    "for number in range(0, 10, 2):\n",
    "    print(\"Attempt\", number + 1, (number + 1)* \".\")"
   ]
  },
  {
   "cell_type": "markdown",
   "id": "64a4363e",
   "metadata": {},
   "source": [
    "#### 3.1 For-else"
   ]
  },
  {
   "cell_type": "code",
   "execution_count": 67,
   "id": "1548484f",
   "metadata": {},
   "outputs": [
    {
     "name": "stdout",
     "output_type": "stream",
     "text": [
      "Attempt\n",
      "Attempt\n",
      "Attempt\n",
      "Attempted 3 times and failed\n"
     ]
    }
   ],
   "source": [
    "successful = False\n",
    "for number in range(3):\n",
    "    print(\"Attempt\")\n",
    "    if successful:\n",
    "        print(\"Successful\")\n",
    "        break\n",
    "else:\n",
    "    print(\"Attempted 3 times and failed\")"
   ]
  },
  {
   "cell_type": "markdown",
   "id": "17f90be0",
   "metadata": {},
   "source": [
    "#### 3.2 Nested-loop"
   ]
  },
  {
   "cell_type": "code",
   "execution_count": 68,
   "id": "c5d59385",
   "metadata": {},
   "outputs": [
    {
     "name": "stdout",
     "output_type": "stream",
     "text": [
      "(0,0)\n",
      "(0,1)\n",
      "(0,2)\n",
      "(1,0)\n",
      "(1,1)\n",
      "(1,2)\n",
      "(2,0)\n",
      "(2,1)\n",
      "(2,2)\n",
      "(3,0)\n",
      "(3,1)\n",
      "(3,2)\n",
      "(4,0)\n",
      "(4,1)\n",
      "(4,2)\n"
     ]
    }
   ],
   "source": [
    "for x in range(5):\n",
    "    for y in range(3):\n",
    "        print(f\"({x},{y})\")"
   ]
  },
  {
   "cell_type": "markdown",
   "id": "2385aac6",
   "metadata": {},
   "source": [
    "#### 3.3 Iterables"
   ]
  },
  {
   "cell_type": "code",
   "execution_count": 69,
   "id": "d072761a",
   "metadata": {},
   "outputs": [
    {
     "name": "stdout",
     "output_type": "stream",
     "text": [
      "<class 'range'>\n"
     ]
    }
   ],
   "source": [
    "#range是一个complex type并且是iterable的\n",
    "print(type(range(5)))"
   ]
  },
  {
   "cell_type": "code",
   "execution_count": 70,
   "id": "c0d7cc4d",
   "metadata": {},
   "outputs": [
    {
     "name": "stdout",
     "output_type": "stream",
     "text": [
      "2\n",
      "3\n",
      "5\n",
      "3\n"
     ]
    }
   ],
   "source": [
    "#list是一个complex type并且是iterable的\n",
    "for x in [2,3,5,9]:\n",
    "    print(x)"
   ]
  },
  {
   "cell_type": "markdown",
   "id": "21e955ef",
   "metadata": {},
   "source": [
    "### 4. While Loops"
   ]
  },
  {
   "cell_type": "code",
   "execution_count": 71,
   "id": "6bbafc8a",
   "metadata": {},
   "outputs": [
    {
     "name": "stdout",
     "output_type": "stream",
     "text": [
      "100\n",
      "50\n",
      "25\n",
      "12\n",
      "6\n",
      "3\n",
      "1\n"
     ]
    }
   ],
   "source": [
    "number = 100\n",
    "while number > 0:\n",
    "    print(number)\n",
    "    number //= 2   #//取整除法"
   ]
  },
  {
   "cell_type": "code",
   "execution_count": 76,
   "id": "a39bbb10",
   "metadata": {},
   "outputs": [
    {
     "name": "stdout",
     "output_type": "stream",
     "text": [
      ">zxl\n",
      "ECHO zxl\n",
      ">Quit\n",
      "ECHO Quit\n"
     ]
    }
   ],
   "source": [
    "command = \"\"\n",
    "while command.lower() != \"quit\":\n",
    "    command = input(\">\")\n",
    "    print(\"ECHO\",command)"
   ]
  },
  {
   "cell_type": "markdown",
   "id": "d1108c0a",
   "metadata": {},
   "source": [
    "#### 4.1 Infinite Loops"
   ]
  },
  {
   "cell_type": "code",
   "execution_count": 77,
   "id": "78f1c125",
   "metadata": {
    "scrolled": true
   },
   "outputs": [
    {
     "name": "stdout",
     "output_type": "stream",
     "text": [
      ">33\n",
      "ECHO 33\n",
      ">quit\n",
      "ECHO quit\n"
     ]
    }
   ],
   "source": [
    "#优点：不需要预先定义变量command；缺点：容易把电脑搞崩\n",
    "while True:\n",
    "    command = input(\">\")\n",
    "    print(\"ECHO\", command)\n",
    "    if command.lower() == \"quit\":\n",
    "        break"
   ]
  },
  {
   "cell_type": "markdown",
   "id": "641b095a",
   "metadata": {},
   "source": [
    "### Exercise"
   ]
  },
  {
   "cell_type": "code",
   "execution_count": 80,
   "id": "4e0c26df",
   "metadata": {},
   "outputs": [
    {
     "name": "stdout",
     "output_type": "stream",
     "text": [
      "2\n",
      "4\n",
      "6\n",
      "8\n",
      "We have 4 even numbers\n"
     ]
    }
   ],
   "source": [
    "count = 0\n",
    "for i in range(1,10):\n",
    "    if i % 2 == 0:\n",
    "        print(i)\n",
    "        count += 1\n",
    "print(f\"We have {count} even numbers\")"
   ]
  },
  {
   "cell_type": "markdown",
   "id": "7c470911",
   "metadata": {},
   "source": [
    "## Lesson 4: Functions"
   ]
  },
  {
   "cell_type": "markdown",
   "id": "02ca79ac",
   "metadata": {},
   "source": [
    "### 1. Function Type"
   ]
  },
  {
   "cell_type": "code",
   "execution_count": 83,
   "id": "d74734a0",
   "metadata": {},
   "outputs": [
    {
     "name": "stdout",
     "output_type": "stream",
     "text": [
      "Hi, Xile Zhang\n"
     ]
    }
   ],
   "source": [
    "#fuction type1: perform a task\n",
    "def fullname(first_name, last_name):\n",
    "    print(f\"Hi, {first_name} {last_name}\")\n",
    "    \n",
    "    \n",
    "fullname(\"Xile\",\"Zhang\")    "
   ]
  },
  {
   "cell_type": "code",
   "execution_count": 85,
   "id": "f79eb308",
   "metadata": {},
   "outputs": [
    {
     "name": "stdout",
     "output_type": "stream",
     "text": [
      "Hi, Xile Zhang\n"
     ]
    }
   ],
   "source": [
    "#fuction type2: return a value(可以把function运行得到的值赋给一个变量)\n",
    "def fullname(first_name, last_name):   #eg. last_name=\"Zhang\" 设置default argument\n",
    "    return f\"Hi, {first_name} {last_name}\"\n",
    "    \n",
    "    \n",
    "message = fullname(\"Xile\",\"Zhang\") \n",
    "print(message)"
   ]
  },
  {
   "cell_type": "markdown",
   "id": "63f22165",
   "metadata": {},
   "source": [
    "### 2. Argument"
   ]
  },
  {
   "cell_type": "code",
   "execution_count": 86,
   "id": "08357e8f",
   "metadata": {},
   "outputs": [
    {
     "name": "stdout",
     "output_type": "stream",
     "text": [
      "120\n"
     ]
    }
   ],
   "source": [
    "# *arg\n",
    "def multiply(*numbers):\n",
    "    total = 1\n",
    "    for number in numbers:\n",
    "        total *= number\n",
    "    return total\n",
    "\n",
    "\n",
    "print(multiply(2,3,4,5))  #运用*arg自动把输入值打包成为tuple"
   ]
  },
  {
   "cell_type": "code",
   "execution_count": 88,
   "id": "40559313",
   "metadata": {},
   "outputs": [
    {
     "name": "stdout",
     "output_type": "stream",
     "text": [
      "{'id': 1, 'name': 'John', 'age': 22}\n"
     ]
    }
   ],
   "source": [
    "# **arg\n",
    "def save_user(**user):\n",
    "    print(user)\n",
    "    \n",
    "\n",
    "save_user(id=1, name=\"John\", age=22) #运用**arg自动把输入值打包成为dictionary"
   ]
  },
  {
   "cell_type": "markdown",
   "id": "8bbb35cb",
   "metadata": {},
   "source": [
    "### 3. Scope"
   ]
  },
  {
   "cell_type": "markdown",
   "id": "e42e3129",
   "metadata": {},
   "source": [
    "local variables: def in the function; cannot be accessible outside the function. \n",
    "global variables: can be accessible anywhere in this file"
   ]
  },
  {
   "cell_type": "code",
   "execution_count": 89,
   "id": "ac41d597",
   "metadata": {},
   "outputs": [
    {
     "name": "stdout",
     "output_type": "stream",
     "text": [
      "a\n"
     ]
    }
   ],
   "source": [
    "message = \"a\"\n",
    "\n",
    "\n",
    "def greet(name):\n",
    "    message = \"b\"\n",
    "\n",
    "    \n",
    "greet(\"Xile\")\n",
    "print(message) #结果是\"a\",因为以上的两个message是不同的，第一个是global variable，第二个是local variable。在function里没有办法且不要去修改global variable的值。"
   ]
  },
  {
   "cell_type": "markdown",
   "id": "cf312d17",
   "metadata": {},
   "source": [
    "### 4. Shortcuts"
   ]
  },
  {
   "cell_type": "markdown",
   "id": "e1957ad2",
   "metadata": {},
   "source": [
    "command+方向右：瞬移到该行末尾\n",
    "command+方向上：瞬移到该段代码开头\n",
    "其他方向同理\n",
    "command+/:注释该行或取消该行注释"
   ]
  },
  {
   "cell_type": "markdown",
   "id": "db5b181a",
   "metadata": {},
   "source": [
    "### 5. Excercise"
   ]
  },
  {
   "cell_type": "code",
   "execution_count": 93,
   "id": "9cabcf14",
   "metadata": {},
   "outputs": [
    {
     "name": "stdout",
     "output_type": "stream",
     "text": [
      "Buzz\n"
     ]
    }
   ],
   "source": [
    "def fizz_buzz(input):\n",
    "    if input % 15 == 0:\n",
    "        return(\"FizzBuzz\")\n",
    "    elif input % 3 == 0:\n",
    "        return(\"Fizz\")\n",
    "    elif input % 5 == 0:\n",
    "        return(\"Buzz\")\n",
    "    else:\n",
    "        return(input)\n",
    "print(fizz_buzz(5))"
   ]
  },
  {
   "cell_type": "markdown",
   "id": "9927279e",
   "metadata": {},
   "source": [
    "## Lesson 5: Data Structure"
   ]
  },
  {
   "cell_type": "markdown",
   "id": "fca79442",
   "metadata": {},
   "source": [
    "### 1. List"
   ]
  },
  {
   "cell_type": "markdown",
   "id": "5863286b",
   "metadata": {},
   "source": [
    "#### 1.1 Create a list"
   ]
  },
  {
   "cell_type": "code",
   "execution_count": 95,
   "id": "ec964a3f",
   "metadata": {},
   "outputs": [
    {
     "name": "stdout",
     "output_type": "stream",
     "text": [
      "[0, 0, 0, 0, 0]\n"
     ]
    },
    {
     "data": {
      "text/plain": [
       "['a', 'b', 'c', 0, 0, 0, 0, 0]"
      ]
     },
     "execution_count": 95,
     "metadata": {},
     "output_type": "execute_result"
    }
   ],
   "source": [
    "letters = [\"a\",\"b\",\"c\"] #use [] to create a list\n",
    "matrix = [[0,1],[2,3]] #list whose elements are lists\n",
    "zeros = [0] * 5 #重复元素\n",
    "print(zeros) "
   ]
  },
  {
   "cell_type": "code",
   "execution_count": 96,
   "id": "4e662177",
   "metadata": {},
   "outputs": [
    {
     "name": "stdout",
     "output_type": "stream",
     "text": [
      "['a', 'b', 'c', 0, 0, 0, 0, 0]\n"
     ]
    }
   ],
   "source": [
    "combined = letters + zeros #元素合并\n",
    "print(combined)"
   ]
  },
  {
   "cell_type": "code",
   "execution_count": 99,
   "id": "25b83595",
   "metadata": {
    "scrolled": true
   },
   "outputs": [
    {
     "name": "stdout",
     "output_type": "stream",
     "text": [
      "[0, 1, 2, 3, 4, 5, 6, 7, 8, 9, 10, 11, 12, 13, 14, 15, 16, 17, 18, 19]\n"
     ]
    }
   ],
   "source": [
    "numbers = list(range(20)) #将range转换为list\n",
    "print(numbers)"
   ]
  },
  {
   "cell_type": "code",
   "execution_count": 101,
   "id": "cef4948e",
   "metadata": {},
   "outputs": [
    {
     "name": "stdout",
     "output_type": "stream",
     "text": [
      "['H', 'e', 'l', 'l', 'o', ' ', 'W', 'o', 'r', 'l', 'd']\n"
     ]
    }
   ],
   "source": [
    "string = list(\"Hello World\") #将string转换为list\n",
    "print(string)"
   ]
  },
  {
   "cell_type": "markdown",
   "id": "e7d4a879",
   "metadata": {},
   "source": [
    "#### 1.2 Accessing items"
   ]
  },
  {
   "cell_type": "code",
   "execution_count": 103,
   "id": "c7bf6d41",
   "metadata": {},
   "outputs": [
    {
     "name": "stdout",
     "output_type": "stream",
     "text": [
      "['A', 'b', 'c', 'd']\n"
     ]
    }
   ],
   "source": [
    "#modify the item of the list\n",
    "letters = [\"a\", \"b\", \"c\", \"d\"]\n",
    "letters[0] = \"A\" \n",
    "print(letters)"
   ]
  },
  {
   "cell_type": "code",
   "execution_count": 106,
   "id": "3e895038",
   "metadata": {},
   "outputs": [
    {
     "name": "stdout",
     "output_type": "stream",
     "text": [
      "[0, 2, 4, 6, 8, 10, 12, 14, 16, 18]\n",
      "[19, 18, 17, 16, 15, 14, 13, 12, 11, 10, 9, 8, 7, 6, 5, 4, 3, 2, 1, 0]\n"
     ]
    }
   ],
   "source": [
    "numbers = list(range(20))\n",
    "print(numbers[::2]) #step=2\n",
    "print(numbers[::-1]) #reverse order"
   ]
  },
  {
   "cell_type": "markdown",
   "id": "6214e8a7",
   "metadata": {},
   "source": [
    "#### 1.3 Unpacking Lists"
   ]
  },
  {
   "cell_type": "code",
   "execution_count": 109,
   "id": "80d610c2",
   "metadata": {},
   "outputs": [
    {
     "name": "stdout",
     "output_type": "stream",
     "text": [
      "1\n",
      "2\n",
      "3\n"
     ]
    }
   ],
   "source": [
    "numbers = [1, 2, 3]\n",
    "first, second, third = numbers\n",
    "print(first)\n",
    "print(second)\n",
    "print(third)"
   ]
  },
  {
   "cell_type": "code",
   "execution_count": 112,
   "id": "0e20bcb5",
   "metadata": {},
   "outputs": [
    {
     "name": "stdout",
     "output_type": "stream",
     "text": [
      "1\n",
      "[3, 4, 6, 7, 2, 4]\n",
      "4\n",
      "[2, 3, 4, 6, 7, 2]\n"
     ]
    }
   ],
   "source": [
    "numbers = [1, 2, 3, 4, 6, 7, 2, 4]\n",
    "first, second, *other = numbers\n",
    "print(first)\n",
    "print(other)\n",
    "first, *other, last = numbers\n",
    "print(last)\n",
    "print(other)"
   ]
  },
  {
   "cell_type": "markdown",
   "id": "67bb3468",
   "metadata": {},
   "source": [
    "#### 1.4 Loop over list"
   ]
  },
  {
   "cell_type": "code",
   "execution_count": 114,
   "id": "69f4e0c4",
   "metadata": {},
   "outputs": [
    {
     "name": "stdout",
     "output_type": "stream",
     "text": [
      "(0, 'a')\n",
      "(1, 'b')\n",
      "(2, 'c')\n",
      "0 a\n",
      "1 b\n",
      "2 c\n"
     ]
    }
   ],
   "source": [
    "letters = [\"a\", \"b\", \"c\"]\n",
    "for letter in enumerate(letters):  #enumerate():返回一个tuple (index,item)\n",
    "    print(letter)\n",
    "\n",
    "    \n",
    "for index, letter in enumerate(letters): #list unpacking\n",
    "    print(index, letter)"
   ]
  },
  {
   "cell_type": "markdown",
   "id": "130b4d98",
   "metadata": {},
   "source": [
    "#### 1.5 Adding/removing items"
   ]
  },
  {
   "cell_type": "code",
   "execution_count": 116,
   "id": "95637738",
   "metadata": {},
   "outputs": [
    {
     "name": "stdout",
     "output_type": "stream",
     "text": [
      "['a', 'b', 'c', 'd']\n",
      "['-', 'a', 'b', 'c', 'd']\n"
     ]
    }
   ],
   "source": [
    "# Add\n",
    "letters = [\"a\", \"b\", \"c\"]\n",
    "letters.append(\"d\")  #加在末尾\n",
    "print(letters)\n",
    "letters.insert(0, \"-\")  #加在指定位置\n",
    "print(letters)"
   ]
  },
  {
   "cell_type": "code",
   "execution_count": 124,
   "id": "cfbe316b",
   "metadata": {},
   "outputs": [
    {
     "name": "stdout",
     "output_type": "stream",
     "text": [
      "['a', 'b', 'c']\n",
      "['b', 'c']\n",
      "['a', 'b', 'c', 'd']\n",
      "['c', 'd']\n",
      "None\n"
     ]
    }
   ],
   "source": [
    "# Remove\n",
    "letters = [\"a\", \"b\", \"c\", \"d\"]\n",
    "letters.pop()  #移除末尾item\n",
    "print(letters)\n",
    "letters.pop(0)  #移除指定index的item\n",
    "print(letters)\n",
    "letters = [\"a\", \"b\", \"b\", \"c\", \"d\"]\n",
    "letters.remove(\"b\")  #移除第一个指定item\n",
    "print(letters)\n",
    "del letters[0:2]  #删除items\n",
    "print(letters)\n",
    "letters.clear()  #移除list里的所有items\n",
    "print(letters)"
   ]
  },
  {
   "cell_type": "markdown",
   "id": "1c348583",
   "metadata": {},
   "source": [
    "#### 1.6 Finding items"
   ]
  },
  {
   "cell_type": "code",
   "execution_count": 131,
   "id": "0898a278",
   "metadata": {},
   "outputs": [
    {
     "name": "stdout",
     "output_type": "stream",
     "text": [
      "2\n",
      "0\n"
     ]
    },
    {
     "ename": "ValueError",
     "evalue": "'d' is not in list",
     "output_type": "error",
     "traceback": [
      "\u001b[0;31m---------------------------------------------------------------------------\u001b[0m",
      "\u001b[0;31mValueError\u001b[0m                                Traceback (most recent call last)",
      "\u001b[0;32m<ipython-input-131-e3be84e749ff>\u001b[0m in \u001b[0;36m<module>\u001b[0;34m\u001b[0m\n\u001b[1;32m      2\u001b[0m \u001b[0mprint\u001b[0m\u001b[0;34m(\u001b[0m\u001b[0mletters\u001b[0m\u001b[0;34m.\u001b[0m\u001b[0mindex\u001b[0m\u001b[0;34m(\u001b[0m\u001b[0;34m\"c\"\u001b[0m\u001b[0;34m)\u001b[0m\u001b[0;34m)\u001b[0m\u001b[0;34m\u001b[0m\u001b[0;34m\u001b[0m\u001b[0m\n\u001b[1;32m      3\u001b[0m \u001b[0mprint\u001b[0m\u001b[0;34m(\u001b[0m\u001b[0mletters\u001b[0m\u001b[0;34m.\u001b[0m\u001b[0mcount\u001b[0m\u001b[0;34m(\u001b[0m\u001b[0;34m\"d\"\u001b[0m\u001b[0;34m)\u001b[0m\u001b[0;34m)\u001b[0m  \u001b[0;31m#查看list中有多少个\"d\"\u001b[0m\u001b[0;34m\u001b[0m\u001b[0;34m\u001b[0m\u001b[0m\n\u001b[0;32m----> 4\u001b[0;31m \u001b[0mprint\u001b[0m\u001b[0;34m(\u001b[0m\u001b[0mletters\u001b[0m\u001b[0;34m.\u001b[0m\u001b[0mindex\u001b[0m\u001b[0;34m(\u001b[0m\u001b[0;34m\"d\"\u001b[0m\u001b[0;34m)\u001b[0m\u001b[0;34m)\u001b[0m\u001b[0;34m\u001b[0m\u001b[0;34m\u001b[0m\u001b[0m\n\u001b[0m",
      "\u001b[0;31mValueError\u001b[0m: 'd' is not in list"
     ]
    }
   ],
   "source": [
    "letters = [\"a\", \"b\", \"c\"]\n",
    "print(letters.index(\"c\"))\n",
    "print(letters.count(\"d\"))  #查看list中有多少个\"d\"\n",
    "print(letters.index(\"d\"))"
   ]
  },
  {
   "cell_type": "markdown",
   "id": "2fc283ec",
   "metadata": {},
   "source": [
    "#### 1.7 Sorting Lists"
   ]
  },
  {
   "cell_type": "code",
   "execution_count": 138,
   "id": "8e4ba3c1",
   "metadata": {},
   "outputs": [
    {
     "name": "stdout",
     "output_type": "stream",
     "text": [
      "[3, 6, 9, 23, 51, 54]\n",
      "[3, 6, 9, 23, 51, 54]\n",
      "[54, 51, 23, 9, 6, 3]\n",
      "[54, 51, 23, 9, 6, 3]\n"
     ]
    }
   ],
   "source": [
    "numbers = [3, 51, 23, 54, 9, 6]\n",
    "numbers.sort()  #ascending order; 直接作用在numbers这个list上\n",
    "print(sorted(numbers)) #产生一个sorted的新list\n",
    "print(numbers)\n",
    "numbers.sort(reverse=True)  #decending order\n",
    "print(sorted(numbers, reverse=True))\n",
    "print(numbers)"
   ]
  },
  {
   "cell_type": "markdown",
   "id": "404903b9",
   "metadata": {},
   "source": [
    "#### 1.8 Lambda function"
   ]
  },
  {
   "cell_type": "code",
   "execution_count": 140,
   "id": "ad29ee60",
   "metadata": {},
   "outputs": [
    {
     "name": "stdout",
     "output_type": "stream",
     "text": [
      "[('Product2', 9), ('Product1', 10), ('Product3', 12)]\n"
     ]
    }
   ],
   "source": [
    "items = [\n",
    "    (\"Product1\", 10),\n",
    "    (\"Product2\", 9),\n",
    "    (\"Product3\", 12)\n",
    "] #目标：按数字排序\n",
    "\n",
    "\n",
    "items.sort(key=lambda item:item[1])  #lambda parameters:expression\n",
    "print(items)"
   ]
  },
  {
   "cell_type": "markdown",
   "id": "5de800b8",
   "metadata": {},
   "source": [
    "#### 1.9 Map fuction"
   ]
  },
  {
   "cell_type": "code",
   "execution_count": 142,
   "id": "32de7aeb",
   "metadata": {},
   "outputs": [
    {
     "name": "stdout",
     "output_type": "stream",
     "text": [
      "[10, 9, 12]\n",
      "[10, 9, 12]\n"
     ]
    }
   ],
   "source": [
    "items = [\n",
    "    (\"Product1\", 10),\n",
    "    (\"Product2\", 9),\n",
    "    (\"Product3\", 12)\n",
    "] #目标：提取数字item成为一个list\n",
    "\n",
    "\n",
    "price = []\n",
    "for item in items:\n",
    "    price.append(item[1])\n",
    "    \n",
    "\n",
    "print(price) \n",
    "\n",
    "#用map\n",
    "items = [\n",
    "    (\"Product1\", 10),\n",
    "    (\"Product2\", 9),\n",
    "    (\"Product3\", 12)\n",
    "] #目标：提取数字item成为一个list\n",
    "\n",
    "\n",
    "prices = list(map(lambda item: item[1], items))\n",
    "print(price)"
   ]
  },
  {
   "cell_type": "code",
   "execution_count": 145,
   "id": "e646af7c",
   "metadata": {},
   "outputs": [
    {
     "name": "stdout",
     "output_type": "stream",
     "text": [
      "[('Product1', 10), ('Product3', 12)]\n"
     ]
    }
   ],
   "source": [
    "#用filter\n",
    "items = [\n",
    "    (\"Product1\", 10),\n",
    "    (\"Product2\", 9),\n",
    "    (\"Product3\", 12)\n",
    "] #目标：提取价格>=10的item\n",
    "\n",
    "\n",
    "filtered = list(filter(lambda item: item[1] >= 10, items))\n",
    "print(filtered)"
   ]
  },
  {
   "cell_type": "markdown",
   "id": "4f7328f1",
   "metadata": {},
   "source": [
    "#### 1.10 List Comprehension"
   ]
  },
  {
   "cell_type": "code",
   "execution_count": 151,
   "id": "34f4feba",
   "metadata": {},
   "outputs": [
    {
     "name": "stdout",
     "output_type": "stream",
     "text": [
      "[10, 9, 12]\n",
      "[('Product1', 10), ('Product3', 12)]\n"
     ]
    }
   ],
   "source": [
    "# [expression for parameter in list]\n",
    "items = [\n",
    "    (\"Product1\", 10),\n",
    "    (\"Product2\", 9),\n",
    "    (\"Product3\", 12)\n",
    "]\n",
    "\n",
    "\n",
    "price = [item[1] for item in items]  # 比map和filter更美观\n",
    "print(price)\n",
    "\n",
    "filtered = [item for item in items if item[1] >= 10]\n",
    "print(filtered)"
   ]
  },
  {
   "cell_type": "markdown",
   "id": "28669d34",
   "metadata": {},
   "source": [
    "#### 1.11 Zip Fuction"
   ]
  },
  {
   "cell_type": "code",
   "execution_count": 153,
   "id": "9899b3ec",
   "metadata": {},
   "outputs": [
    {
     "name": "stdout",
     "output_type": "stream",
     "text": [
      "[('a', 1, 10), ('b', 2, 20), ('c', 3, 30)]\n"
     ]
    }
   ],
   "source": [
    "list1 = [1, 2, 3]\n",
    "list2 = [10, 20, 30]\n",
    "\n",
    "print(list(zip(\"abc\", list1, list2)))"
   ]
  },
  {
   "cell_type": "markdown",
   "id": "7493bbca",
   "metadata": {},
   "source": [
    "#### 1.12 Stacks"
   ]
  },
  {
   "cell_type": "markdown",
   "id": "d90e554d",
   "metadata": {},
   "source": [
    "LIFO: Last In - First Out"
   ]
  },
  {
   "cell_type": "code",
   "execution_count": 156,
   "id": "aaa8cbf5",
   "metadata": {},
   "outputs": [
    {
     "name": "stdout",
     "output_type": "stream",
     "text": [
      "[1, 2, 3]\n",
      "3\n",
      "[1, 2]\n"
     ]
    }
   ],
   "source": [
    "browsing_session = []\n",
    "browsing_session.append(1)\n",
    "browsing_session.append(2)\n",
    "browsing_session.append(3)\n",
    "print(browsing_session)\n",
    "last = browsing_session.pop()\n",
    "print(last)\n",
    "print(browsing_session)\n",
    "if not browsing_session:\n",
    "    print(\"disable\")  #[]是False"
   ]
  },
  {
   "cell_type": "markdown",
   "id": "7e8dfdfc",
   "metadata": {},
   "source": [
    "#### 1.13 Queues"
   ]
  },
  {
   "cell_type": "markdown",
   "id": "d791be5e",
   "metadata": {},
   "source": [
    "FIFO: First In -  First Out"
   ]
  },
  {
   "cell_type": "code",
   "execution_count": 158,
   "id": "80228a3a",
   "metadata": {},
   "outputs": [
    {
     "name": "stdout",
     "output_type": "stream",
     "text": [
      "deque([2, 3])\n"
     ]
    }
   ],
   "source": [
    "from collections import deque\n",
    "queue = deque([])\n",
    "queue.append(1)\n",
    "queue.append(2)\n",
    "queue.append(3)\n",
    "queue.popleft()\n",
    "print(queue)\n",
    "if not queue:\n",
    "    print(\"empty\")"
   ]
  },
  {
   "cell_type": "markdown",
   "id": "86ac1e9d",
   "metadata": {},
   "source": [
    "### 2. Tuples"
   ]
  },
  {
   "cell_type": "code",
   "execution_count": 162,
   "id": "36fcc0fd",
   "metadata": {},
   "outputs": [
    {
     "name": "stdout",
     "output_type": "stream",
     "text": [
      "<class 'tuple'>\n",
      "<class 'tuple'>\n",
      "('H', 'e', 'l', 'l', 'o', ' ', 'W', 'o', 'r', 'l', 'd')\n"
     ]
    }
   ],
   "source": [
    "point = (1, 2, 3, 4) #用()创建tuple\n",
    "print(type(point))\n",
    "point = 1, 2, 3, 4 #没有括号的用逗号分隔的sequence也默认是tuple \n",
    "print(type(point))\n",
    "point = tuple(\"Hello World\")\n",
    "print(point)\n",
    "#其余的tuple的加法，索引等等与list相似，但是tuple不支持item assignment, i.e.  item的修改"
   ]
  },
  {
   "cell_type": "markdown",
   "id": "ce45234c",
   "metadata": {},
   "source": [
    "#### 2.1 Swapping Variables"
   ]
  },
  {
   "cell_type": "code",
   "execution_count": 164,
   "id": "73b19f74",
   "metadata": {},
   "outputs": [
    {
     "name": "stdout",
     "output_type": "stream",
     "text": [
      "x 11\n",
      "y 10\n"
     ]
    }
   ],
   "source": [
    "x = 10\n",
    "y = 11\n",
    "\n",
    "x, y = y, x\n",
    "\n",
    "print(\"x\", x)\n",
    "print(\"y\", y)\n",
    "\n",
    "#集中赋值\n",
    "a, b = 1, 2"
   ]
  },
  {
   "cell_type": "markdown",
   "id": "9894ff17",
   "metadata": {},
   "source": [
    "### 3. Arrays   "
   ]
  },
  {
   "cell_type": "markdown",
   "id": "4ce89c33",
   "metadata": {},
   "source": [
    "#在处理大数据时比list更efficient和占用更少的memory，可以用来提升performance"
   ]
  },
  {
   "cell_type": "code",
   "execution_count": 260,
   "id": "aa41b381",
   "metadata": {},
   "outputs": [],
   "source": [
    "from array import array"
   ]
  },
  {
   "cell_type": "code",
   "execution_count": 262,
   "id": "275994ad",
   "metadata": {},
   "outputs": [
    {
     "name": "stdout",
     "output_type": "stream",
     "text": [
      "array('i', [1, 2, 3])\n"
     ]
    }
   ],
   "source": [
    "numbers = array(\"i\", [1, 2, 3])  #in python3 typecode=\"i\" indicates signed int"
   ]
  },
  {
   "cell_type": "markdown",
   "id": "eca32646",
   "metadata": {},
   "source": [
    "### 4. Sets"
   ]
  },
  {
   "cell_type": "raw",
   "id": "555b847b",
   "metadata": {},
   "source": [
    "# a collection with no duplicates\n",
    "# unorder, 所以没有index"
   ]
  },
  {
   "cell_type": "code",
   "execution_count": 170,
   "id": "9214e7c4",
   "metadata": {},
   "outputs": [
    {
     "name": "stdout",
     "output_type": "stream",
     "text": [
      "{1, 2, 3, 4}\n",
      "{1, 2, 3, 4, 5}\n",
      "{1}\n",
      "{2, 3, 4}\n",
      "{2, 3, 4, 5}\n"
     ]
    }
   ],
   "source": [
    "numbers = [1, 1, 2, 3, 4]\n",
    "first = set(numbers)  #通过转变为set来达到去重的目的\n",
    "print(first)  \n",
    "second = {1, 5}\n",
    "print(first | second)\n",
    "print(first & second)\n",
    "print(first - second)\n",
    "print(first ^ second)  #并集减交集"
   ]
  },
  {
   "cell_type": "markdown",
   "id": "c5ca067e",
   "metadata": {},
   "source": [
    "### 5. Dictionary"
   ]
  },
  {
   "cell_type": "code",
   "execution_count": 186,
   "id": "062110f2",
   "metadata": {},
   "outputs": [
    {
     "name": "stdout",
     "output_type": "stream",
     "text": [
      "1\n",
      "{'x': 1, 'y': 2, 'z': 20}\n",
      "None\n",
      "0\n",
      "{'y': 2, 'z': 20}\n"
     ]
    }
   ],
   "source": [
    "point = dict(x=1, y=2) \n",
    "print(point[\"x\"])\n",
    "point[\"z\"] = 20  #增加元素\n",
    "print(point)\n",
    "print(point.get(\"a\")) \n",
    "print(point.get(\"a\", 0))  #若无\"a\"这个key，则返回0\n",
    "del point[\"x\"]  #remove item\n",
    "print(point)"
   ]
  },
  {
   "cell_type": "code",
   "execution_count": 185,
   "id": "17381906",
   "metadata": {},
   "outputs": [
    {
     "name": "stdout",
     "output_type": "stream",
     "text": [
      "y\n",
      "z\n",
      "('y', 2)\n",
      "('z', 20)\n",
      "y 2\n",
      "z 20\n"
     ]
    }
   ],
   "source": [
    "#iterable\n",
    "for i in point:\n",
    "    print(i)  #print的是key\n",
    "for x in point.items():\n",
    "    print(x)  #for each key, we had a tuple \n",
    "for key, value in point.items():\n",
    "    print(key, value)  #for each key, we had a tuple "
   ]
  },
  {
   "cell_type": "markdown",
   "id": "8b1782c6",
   "metadata": {},
   "source": [
    "#### 5.1 Dictionary Comprehensions"
   ]
  },
  {
   "cell_type": "code",
   "execution_count": 184,
   "id": "62c7d912",
   "metadata": {},
   "outputs": [
    {
     "name": "stdout",
     "output_type": "stream",
     "text": [
      "{0: 0, 1: 2, 2: 4, 3: 6, 4: 8}\n"
     ]
    }
   ],
   "source": [
    "values = {x: x*2 for x in range(5)}\n",
    "print(values)"
   ]
  },
  {
   "cell_type": "markdown",
   "id": "3370f36b",
   "metadata": {},
   "source": [
    "### 6. Generators"
   ]
  },
  {
   "cell_type": "markdown",
   "id": "59b0f3d9",
   "metadata": {},
   "source": [
    "consume less memory; iterable"
   ]
  },
  {
   "cell_type": "code",
   "execution_count": 191,
   "id": "c7559dfe",
   "metadata": {},
   "outputs": [
    {
     "name": "stdout",
     "output_type": "stream",
     "text": [
      "<generator object <genexpr> at 0x7fd648422510>\n"
     ]
    },
    {
     "ename": "TypeError",
     "evalue": "object of type 'generator' has no len()",
     "output_type": "error",
     "traceback": [
      "\u001b[0;31m---------------------------------------------------------------------------\u001b[0m",
      "\u001b[0;31mTypeError\u001b[0m                                 Traceback (most recent call last)",
      "\u001b[0;32m<ipython-input-191-296beda736d0>\u001b[0m in \u001b[0;36m<module>\u001b[0;34m\u001b[0m\n\u001b[1;32m      1\u001b[0m \u001b[0mvalues\u001b[0m \u001b[0;34m=\u001b[0m \u001b[0;34m(\u001b[0m\u001b[0mx\u001b[0m\u001b[0;34m*\u001b[0m\u001b[0;36m2\u001b[0m \u001b[0;32mfor\u001b[0m \u001b[0mx\u001b[0m \u001b[0;32min\u001b[0m \u001b[0mrange\u001b[0m\u001b[0;34m(\u001b[0m\u001b[0;36m10\u001b[0m\u001b[0;34m)\u001b[0m\u001b[0;34m)\u001b[0m\u001b[0;34m\u001b[0m\u001b[0;34m\u001b[0m\u001b[0m\n\u001b[1;32m      2\u001b[0m \u001b[0mprint\u001b[0m\u001b[0;34m(\u001b[0m\u001b[0mvalues\u001b[0m\u001b[0;34m)\u001b[0m  \u001b[0;31m#产生的不是list而是generator object\u001b[0m\u001b[0;34m\u001b[0m\u001b[0;34m\u001b[0m\u001b[0m\n\u001b[0;32m----> 3\u001b[0;31m \u001b[0mlen\u001b[0m\u001b[0;34m(\u001b[0m\u001b[0mvalues\u001b[0m\u001b[0;34m)\u001b[0m\u001b[0;34m\u001b[0m\u001b[0;34m\u001b[0m\u001b[0m\n\u001b[0m",
      "\u001b[0;31mTypeError\u001b[0m: object of type 'generator' has no len()"
     ]
    }
   ],
   "source": [
    "values = (x*2 for x in range(10))\n",
    "print(values)  #产生的不是list而是generator object\n",
    "len(values)  #generator object没有length"
   ]
  },
  {
   "cell_type": "code",
   "execution_count": 190,
   "id": "1dd17f5e",
   "metadata": {},
   "outputs": [
    {
     "name": "stdout",
     "output_type": "stream",
     "text": [
      "gen: 112\n",
      "list: 184\n"
     ]
    }
   ],
   "source": [
    "from sys import getsizeof\n",
    "print(\"gen:\", getsizeof(values))\n",
    "values = [x*2 for x in range(10)]\n",
    "print(\"list:\", getsizeof(values))"
   ]
  },
  {
   "cell_type": "markdown",
   "id": "c29ed2f0",
   "metadata": {},
   "source": [
    "### 7. Unpacking Operator"
   ]
  },
  {
   "cell_type": "code",
   "execution_count": 199,
   "id": "890f2084",
   "metadata": {},
   "outputs": [
    {
     "name": "stdout",
     "output_type": "stream",
     "text": [
      "[1, 2, 3]\n",
      "1 2 3\n",
      "[0, 1, 2, 3, 4, 'H', 'e', 'l', 'l', 'o']\n",
      "[1, 2, 3, 'ab', 0, 1, 2, 3, 4, 'H', 'e', 'l', 'l', 'o']\n"
     ]
    }
   ],
   "source": [
    "numbers = [1, 2, 3]\n",
    "print(numbers)\n",
    "print(*numbers)  #unpacking\n",
    "values = [*range(5), *\"Hello\"]\n",
    "print(values)\n",
    "print([*numbers, \"ab\", *values])  #using unpack to create lists"
   ]
  },
  {
   "cell_type": "code",
   "execution_count": 201,
   "id": "a343ae0c",
   "metadata": {},
   "outputs": [
    {
     "name": "stdout",
     "output_type": "stream",
     "text": [
      "{'x': 10, 'y': 2, 'z': 1}\n"
     ]
    }
   ],
   "source": [
    "#unpack dictionary\n",
    "first = {\"x\": 1}\n",
    "second = {\"x\": 10, \"y\":2}\n",
    "combined = {**first, **second, \"z\":1}\n",
    "print(combined)"
   ]
  },
  {
   "cell_type": "markdown",
   "id": "c92191aa",
   "metadata": {},
   "source": [
    "### 8. Excercise"
   ]
  },
  {
   "cell_type": "code",
   "execution_count": 227,
   "id": "4645cf87",
   "metadata": {},
   "outputs": [
    {
     "name": "stdout",
     "output_type": "stream",
     "text": [
      "r 1\n",
      "a 1\n",
      "e 3\n",
      "o 3\n",
      "m 2\n",
      "n 3\n",
      "h 1\n",
      "t 2\n",
      "u 1\n",
      "  5\n",
      "w 1\n",
      "q 1\n",
      "s 3\n",
      "T 1\n",
      "i 5\n",
      "v 1\n",
      "c 1\n"
     ]
    }
   ],
   "source": [
    "sentence = \"This is a common interview question\"\n",
    "seperate = list(sentence)\n",
    "unique = set(sentence)\n",
    "for i in unique:\n",
    "    print(i, seperate.count(i))"
   ]
  },
  {
   "cell_type": "code",
   "execution_count": 242,
   "id": "6ba900d4",
   "metadata": {},
   "outputs": [
    {
     "name": "stdout",
     "output_type": "stream",
     "text": [
      "('i', 5)\n"
     ]
    }
   ],
   "source": [
    "from pprint import pprint\n",
    "sentence = \"This is a common interview question\"\n",
    "char_frequency = {}\n",
    "for char in sentence:\n",
    "    if char in char_frequency:\n",
    "        char_frequency[char] += 1\n",
    "    else:\n",
    "        char_frequency[char] = 1\n",
    "char_frequency_sorted = sorted(char_frequency.items(), \n",
    "                               key=lambda item:item[1], \n",
    "                               reverse=True)\n",
    "print(char_frequency_sorted[0])"
   ]
  },
  {
   "cell_type": "markdown",
   "id": "29ce9f2c",
   "metadata": {},
   "source": [
    "## Lesson 6:  Exceptions"
   ]
  },
  {
   "cell_type": "markdown",
   "id": "72146810",
   "metadata": {},
   "source": [
    "### 1. Handling Exceptions"
   ]
  },
  {
   "cell_type": "code",
   "execution_count": 247,
   "id": "84fd3d11",
   "metadata": {},
   "outputs": [
    {
     "name": "stdout",
     "output_type": "stream",
     "text": [
      "Age: q\n",
      "You didn't enter a valid age\n",
      "invalid literal for int() with base 10: 'q'\n"
     ]
    }
   ],
   "source": [
    "try:\n",
    "    age = int(input(\"Age: \"))\n",
    "except ValueError as ex:    #如果没有这个exception，程序就会crush\n",
    "    print(\"You didn't enter a valid age\")  #当输入值不是numerical的时候\n",
    "    print(ex)\n",
    "else:\n",
    "    print(\"No exceptions were thrown\")  #当输入值是numerical的时候"
   ]
  },
  {
   "cell_type": "markdown",
   "id": "250b22ab",
   "metadata": {},
   "source": [
    "### 2. Handling Different Exceptions"
   ]
  },
  {
   "cell_type": "code",
   "execution_count": 249,
   "id": "b34f63e9",
   "metadata": {},
   "outputs": [
    {
     "name": "stdout",
     "output_type": "stream",
     "text": [
      "Age: 0\n",
      "Age cannot be 0\n"
     ]
    }
   ],
   "source": [
    "try:\n",
    "    age = int(input(\"Age: \"))\n",
    "    xfactor = 10/ age\n",
    "except ValueError:    #如果没有这个exception，程序就会crush\n",
    "    print(\"You didn't enter a valid age\")  #当输入值不是numerical的时候\n",
    "except ZeroDivisionError:\n",
    "    print(\"Age cannot be 0\")\n",
    "else:\n",
    "    print(\"No exceptions were thrown\")  #当输入值是numerical的时候"
   ]
  },
  {
   "cell_type": "code",
   "execution_count": 250,
   "id": "aa12e367",
   "metadata": {},
   "outputs": [
    {
     "name": "stdout",
     "output_type": "stream",
     "text": [
      "Age: 0\n",
      "You didn't enter a valid age\n"
     ]
    }
   ],
   "source": [
    "try:\n",
    "    age = int(input(\"Age: \"))\n",
    "    xfactor = 10/ age\n",
    "except (ValueError, ZeroDivisionError):    #如果没有这个exception，程序就会crush\n",
    "    print(\"You didn't enter a valid age\")  #当输入值不是numerical的时候\n",
    "else:\n",
    "    print(\"No exceptions were thrown\")  #当输入值是numerical的时候"
   ]
  },
  {
   "cell_type": "markdown",
   "id": "119aaca5",
   "metadata": {},
   "source": [
    "### 3. Cleaning Up"
   ]
  },
  {
   "cell_type": "code",
   "execution_count": 252,
   "id": "ef7bf33a",
   "metadata": {},
   "outputs": [
    {
     "name": "stdout",
     "output_type": "stream",
     "text": [
      "Age: a\n",
      "You didn't enter a valid age\n"
     ]
    }
   ],
   "source": [
    "try:\n",
    "    #file = open(\"app.py\")\n",
    "    age = int(input(\"Age: \"))\n",
    "    xfactor = 10/ age\n",
    "except (ValueError, ZeroDivisionError):    #如果没有这个exception，程序就会crush\n",
    "    print(\"You didn't enter a valid age\")  #当输入值不是numerical的时候\n",
    "else:\n",
    "    print(\"No exceptions were thrown\")  #当输入值是numerical的时候\n",
    "# finally:\n",
    "#     file.close()  #will be executed whether we have an exception or not"
   ]
  },
  {
   "cell_type": "markdown",
   "id": "b7275dbd",
   "metadata": {},
   "source": [
    "### 4. The With Statement"
   ]
  },
  {
   "cell_type": "code",
   "execution_count": null,
   "id": "f9d96254",
   "metadata": {},
   "outputs": [],
   "source": [
    "try:\n",
    "#     with open(\"app.py\") as file, open(\"example.txt\") as example:\n",
    "#         print(\"File opened.\")\n",
    "#         file.__exit__\n",
    "    age = int(input(\"Age: \"))\n",
    "    xfactor = 10/ age\n",
    "except (ValueError, ZeroDivisionError):    #如果没有这个exception，程序就会crush\n",
    "    print(\"You didn't enter a valid age\")  #当输入值不是numerical的时候\n",
    "else:\n",
    "    print(\"No exceptions were thrown\")  #当输入值是numerical的时候"
   ]
  },
  {
   "cell_type": "markdown",
   "id": "8afa3a7e",
   "metadata": {},
   "source": [
    "### 5. Raising Exceptions"
   ]
  },
  {
   "cell_type": "code",
   "execution_count": 254,
   "id": "e983fd1b",
   "metadata": {},
   "outputs": [
    {
     "name": "stdout",
     "output_type": "stream",
     "text": [
      "Age cannot be 0 or less\n"
     ]
    }
   ],
   "source": [
    "def calculate_xfactor(age):\n",
    "        if age <= 0:\n",
    "            raise ValueError(\"Age cannot be 0 or less\")  #Google Built-in Exceptions\n",
    "        return 10 / age\n",
    "\n",
    "try:\n",
    "    calculate_xfactor(-1)\n",
    "except ValueError as error:\n",
    "    print(error)"
   ]
  },
  {
   "cell_type": "markdown",
   "id": "e1092a62",
   "metadata": {},
   "source": [
    "### 6. Cost of Raising Exceptions"
   ]
  },
  {
   "cell_type": "markdown",
   "id": "6da055eb",
   "metadata": {},
   "source": [
    "Raising Exceptions comes with cost. Raise a exceptions only when really have to."
   ]
  },
  {
   "cell_type": "code",
   "execution_count": 259,
   "id": "3692145a",
   "metadata": {},
   "outputs": [
    {
     "name": "stdout",
     "output_type": "stream",
     "text": [
      "first code= 0.010319374996470287\n",
      "second code= 0.004232874984154478\n"
     ]
    }
   ],
   "source": [
    "from timeit import timeit\n",
    "\n",
    "code1 = \"\"\"\n",
    "def calculate_xfactor(age):\n",
    "        if age <= 0:\n",
    "            raise ValueError(\"Age cannot be 0 or less\")  #Google Built-in Exceptions\n",
    "        return 10 / age\n",
    "\n",
    "try:\n",
    "    calculate_xfactor(-1)\n",
    "except ValueError as error:\n",
    "    pass\n",
    "\"\"\"\n",
    "\n",
    "print(\"first code=\", timeit(code1, number=10000))\n",
    "\n",
    "code2 = \"\"\"\n",
    "def calculate_xfactor(age):\n",
    "        if age <= 0:\n",
    "            return None\n",
    "        return 10 / age\n",
    "\n",
    "\n",
    "xfactor = calculate_xfactor(-1)\n",
    "if xfactor == None:\n",
    "    pass\n",
    "\"\"\"\n",
    "\n",
    "print(\"second code=\", timeit(code2, number=10000))"
   ]
  }
 ],
 "metadata": {
  "kernelspec": {
   "display_name": "Python 3",
   "language": "python",
   "name": "python3"
  },
  "language_info": {
   "codemirror_mode": {
    "name": "ipython",
    "version": 3
   },
   "file_extension": ".py",
   "mimetype": "text/x-python",
   "name": "python",
   "nbconvert_exporter": "python",
   "pygments_lexer": "ipython3",
   "version": "3.8.8"
  }
 },
 "nbformat": 4,
 "nbformat_minor": 5
}
