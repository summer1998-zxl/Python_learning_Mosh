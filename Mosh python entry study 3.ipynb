{
 "cells": [
  {
   "cell_type": "markdown",
   "id": "eb31cca2",
   "metadata": {},
   "source": [
    "## Lesson 8: Modules"
   ]
  },
  {
   "cell_type": "markdown",
   "id": "3396f2fc",
   "metadata": {},
   "source": [
    "from modules import function/class/object"
   ]
  },
  {
   "cell_type": "markdown",
   "id": "c8335d00",
   "metadata": {},
   "source": [
    "bad practice: from module import *\n",
    "only import things we need  "
   ]
  },
  {
   "cell_type": "code",
   "execution_count": 1,
   "id": "1117612f",
   "metadata": {},
   "outputs": [
    {
     "name": "stdout",
     "output_type": "stream",
     "text": [
      "['/Users/xilezhang', '/Users/xilezhang/opt/anaconda3/lib/python38.zip', '/Users/xilezhang/opt/anaconda3/lib/python3.8', '/Users/xilezhang/opt/anaconda3/lib/python3.8/lib-dynload', '', '/Users/xilezhang/opt/anaconda3/lib/python3.8/site-packages', '/Users/xilezhang/opt/anaconda3/lib/python3.8/site-packages/aeosa', '/Users/xilezhang/opt/anaconda3/lib/python3.8/site-packages/locket-0.2.1-py3.8.egg', '/Users/xilezhang/opt/anaconda3/lib/python3.8/site-packages/IPython/extensions', '/Users/xilezhang/.ipython']\n"
     ]
    }
   ],
   "source": [
    "import sys\n",
    "print(sys.path)"
   ]
  },
  {
   "cell_type": "markdown",
   "id": "f4e50df7",
   "metadata": {},
   "source": [
    "### 1. Package"
   ]
  },
  {
   "cell_type": "markdown",
   "id": "f5b440df",
   "metadata": {},
   "source": [
    "from package import module"
   ]
  },
  {
   "cell_type": "markdown",
   "id": "89904e65",
   "metadata": {},
   "source": [
    "#### 1.1 Sub-package"
   ]
  },
  {
   "cell_type": "markdown",
   "id": "17d9936c",
   "metadata": {},
   "source": [
    "from package.subpackage import module"
   ]
  },
  {
   "cell_type": "markdown",
   "id": "b41c0d0c",
   "metadata": {},
   "source": [
    "### 2. dir() function"
   ]
  },
  {
   "cell_type": "markdown",
   "id": "45fde461",
   "metadata": {},
   "source": [
    "dir(object): get all the methods and attributes defined in this object "
   ]
  },
  {
   "cell_type": "markdown",
   "id": "415ff251",
   "metadata": {},
   "source": [
    "## Lesson 9: Python Standard Library"
   ]
  },
  {
   "cell_type": "markdown",
   "id": "c399b5ea",
   "metadata": {},
   "source": [
    "Files; SQLite; Date/Time; Random Values; Emails"
   ]
  },
  {
   "cell_type": "markdown",
   "id": "cacd7f29",
   "metadata": {},
   "source": [
    "### 1. Paths"
   ]
  },
  {
   "cell_type": "code",
   "execution_count": 13,
   "id": "ecf833d2",
   "metadata": {},
   "outputs": [
    {
     "name": "stdout",
     "output_type": "stream",
     "text": [
      "flu_shot.txt\n",
      "flu_shot\n",
      ".txt\n",
      "/Users/xilezhang/Downloads\n",
      "/Users/xilezhang/Downloads/file.txt\n",
      "/Users/xilezhang/Downloads/file.docx\n"
     ]
    }
   ],
   "source": [
    "from pathlib import Path\n",
    "\n",
    "path = Path(\"/Users/xilezhang/Downloads/flu_shot.txt\")\n",
    "path.exists()   #这个文件是否存在\n",
    "path.is_file()\n",
    "print(path.name)\n",
    "print(path.stem)\n",
    "print(path.suffix)\n",
    "print(path.parent)\n",
    "#create a new path object based on this existing path but only change its name\n",
    "path = path.with_name(\"file.txt\")   \n",
    "print(path.absolute())\n",
    "#create a new path object based on this existing path but only change its suffix\n",
    "path = path.with_suffix(\".docx\") \n",
    "print(path.absolute())"
   ]
  },
  {
   "cell_type": "markdown",
   "id": "8b1ff175",
   "metadata": {},
   "source": [
    "#### 1.2 Working with Files"
   ]
  },
  {
   "cell_type": "code",
   "execution_count": 21,
   "id": "eedc1707",
   "metadata": {},
   "outputs": [
    {
     "name": "stdout",
     "output_type": "stream",
     "text": [
      "os.stat_result(st_mode=33188, st_ino=8844208, st_dev=16777234, st_nlink=1, st_uid=501, st_gid=20, st_size=3519, st_atime=1639355712, st_mtime=1639355666, st_ctime=1639355710)\n",
      "Sun Dec 12 19:35:10 2021\n"
     ]
    }
   ],
   "source": [
    "from pathlib import Path\n",
    "from time import ctime\n",
    "\n",
    "path = Path(\"/Users/xilezhang/Downloads/flu_shot.txt\")\n",
    "#path.exists()\n",
    "#path.raname(\"test.txt\")\n",
    "#path.unlink()  #delete the file\n",
    "print(path.stat())  #返回这个文件的相关信息\n",
    "#为了获取human readable time\n",
    "print(ctime(path.stat().st_ctime))\n",
    "\n",
    "#path.read_text()\n",
    "#path.write_text(\"...\")\n"
   ]
  },
  {
   "cell_type": "markdown",
   "id": "3631fca2",
   "metadata": {},
   "source": [
    "#### 1.3 Working with Zip Files"
   ]
  },
  {
   "cell_type": "markdown",
   "id": "d7814101",
   "metadata": {},
   "source": [
    "#### 1.4 Working with CVS Files"
   ]
  },
  {
   "cell_type": "markdown",
   "id": "ba2abdfd",
   "metadata": {},
   "source": [
    "#### 1.5 Working with Json Files"
   ]
  },
  {
   "cell_type": "markdown",
   "id": "dc7caf94",
   "metadata": {},
   "source": [
    "#### 1.6 Working with a SQLite Database"
   ]
  },
  {
   "cell_type": "markdown",
   "id": "30766cac",
   "metadata": {},
   "source": [
    "### 2. Time"
   ]
  },
  {
   "cell_type": "markdown",
   "id": "32a00ef4",
   "metadata": {},
   "source": [
    "#### 2.1 Working with Timestamps"
   ]
  },
  {
   "cell_type": "code",
   "execution_count": 23,
   "id": "2669a48d",
   "metadata": {},
   "outputs": [
    {
     "name": "stdout",
     "output_type": "stream",
     "text": [
      "1641167816.262479\n",
      "0.0006883144378662109\n"
     ]
    }
   ],
   "source": [
    "import time\n",
    "\n",
    "print(time.time())  #返回当前时间，时间格式为时间戳，时间戳格式可用于时间计算\n",
    "\n",
    "#计算该循环的运行时间\n",
    "def send_emails():\n",
    "    for i in range(10000):\n",
    "        pass\n",
    "    \n",
    "start = time.time()\n",
    "send_emails()\n",
    "end = time.time()\n",
    "duration = end - start\n",
    "print(duration)  "
   ]
  },
  {
   "cell_type": "markdown",
   "id": "d8e6d609",
   "metadata": {},
   "source": [
    "#### 2.2 Working with DateTimes"
   ]
  },
  {
   "cell_type": "code",
   "execution_count": 32,
   "id": "bb8e887d",
   "metadata": {},
   "outputs": [
    {
     "name": "stdout",
     "output_type": "stream",
     "text": [
      "2022-01-02 19:07:37.041713\n",
      "2022/1/2\n",
      "2022/01\n",
      "False\n"
     ]
    }
   ],
   "source": [
    "import datetime\n",
    "\n",
    "from datetime import datetime\n",
    "dt = datetime(2018, 1, 1)  #create a datetime object\n",
    "\n",
    "dt1 = datetime.now()\n",
    "dt2 = datetime.strptime(\"2018/01/01\", \"%Y/%m/%d\")  #convert string into datetime\n",
    "dt = datetime.fromtimestamp(time.time())  #convert timestamp into datetime\n",
    "print(dt)\n",
    "print(f\"{dt.year}/{dt.month}/{dt.day}\")\n",
    "print(dt.strftime(\"%Y/%m\"))  #convert datetime into string\n",
    "\n",
    "print(dt2 > dt1)"
   ]
  },
  {
   "cell_type": "markdown",
   "id": "5b22d4ef",
   "metadata": {},
   "source": [
    "#### 2.3 Working with Time Deltas"
   ]
  },
  {
   "cell_type": "code",
   "execution_count": 36,
   "id": "3d8a0fe2",
   "metadata": {},
   "outputs": [
    {
     "name": "stdout",
     "output_type": "stream",
     "text": [
      "1462 days, 21:27:32.118367\n",
      "total_second: 126394052.118367\n",
      "2018-01-02 00:16:40\n"
     ]
    }
   ],
   "source": [
    "from datetime import datetime, timedelta\n",
    "\n",
    "dt1 = datetime(2018, 1, 1)\n",
    "dt2 = datetime.now()\n",
    "\n",
    "duration = dt2 - dt1\n",
    "print(duration)\n",
    "print(\"total_second:\", duration.total_seconds())\n",
    "\n",
    "dt3 = datetime(2018, 1, 1) + timedelta(days=1, seconds=1000)\n",
    "print(dt3)"
   ]
  },
  {
   "cell_type": "markdown",
   "id": "542630e1",
   "metadata": {},
   "source": [
    "### 3. Generating Random Values"
   ]
  },
  {
   "cell_type": "code",
   "execution_count": 42,
   "id": "cb7a7253",
   "metadata": {},
   "outputs": [
    {
     "name": "stdout",
     "output_type": "stream",
     "text": [
      "0.20309566404026658\n",
      "9\n",
      "3\n",
      "[3, 1]\n",
      "['c', 'j', 'h', 'a']\n",
      "difg\n",
      "f,g,j,e\n"
     ]
    }
   ],
   "source": [
    "import random\n",
    "\n",
    "print(random.random())  #产生[0，1]之间的随机值\n",
    "print(random.randint(1, 10))\n",
    "print(random.choice([1, 2, 3, 4, 5]))  #在列表值中随机抽样\n",
    "print(random.choices([1, 2, 3, 4, 5], k=2))  #抽样数为2\n",
    "#从字符串中随机抽样，抽样数为4，抽样结果以list格式呈现\n",
    "print(random.choices(\"abcdefghij\", k=4))  \n",
    "#从字符串中随机抽样，抽样数为4，抽样结果以字符串格式呈现\n",
    "print(\"\".join(random.choices(\"abcdefghij\", k=4)))  \n",
    "print(\",\".join(random.choices(\"abcdefghij\", k=4))) "
   ]
  },
  {
   "cell_type": "code",
   "execution_count": 49,
   "id": "dd83d84f",
   "metadata": {},
   "outputs": [
    {
     "name": "stdout",
     "output_type": "stream",
     "text": [
      "abcdefghijklmnopqrstuvwxyzABCDEFGHIJKLMNOPQRSTUVWXYZ\n",
      "0123456789\n",
      "abcdefghijklmnopqrstuvwxyz\n",
      "5bAb\n"
     ]
    }
   ],
   "source": [
    "import string\n",
    "\n",
    "print(string.ascii_letters)\n",
    "print(string.digits)\n",
    "print(string.ascii_lowercase)\n",
    "\n",
    "#生成四位验证码\n",
    "print(\"\".join(random.choices(string.ascii_letters + string.digits, k=4)))"
   ]
  },
  {
   "cell_type": "markdown",
   "id": "4e9dcf55",
   "metadata": {},
   "source": [
    "### 4. Opening the Browser"
   ]
  },
  {
   "cell_type": "code",
   "execution_count": 50,
   "id": "3ec22e13",
   "metadata": {},
   "outputs": [
    {
     "data": {
      "text/plain": [
       "True"
      ]
     },
     "execution_count": 50,
     "metadata": {},
     "output_type": "execute_result"
    }
   ],
   "source": [
    "import webbrowser\n",
    "\n",
    "webbrowser.open(\"https://www.bilibili.com/video/BV1ng4y1i7Uk?p=9\")"
   ]
  },
  {
   "cell_type": "markdown",
   "id": "ba908644",
   "metadata": {},
   "source": [
    "### 5. Sending Emails"
   ]
  },
  {
   "cell_type": "markdown",
   "id": "1485b200",
   "metadata": {},
   "source": [
    "#### 5.1 Working with Templates"
   ]
  },
  {
   "cell_type": "markdown",
   "id": "d7db9606",
   "metadata": {},
   "source": [
    "## Lesson 10: Python Package Index"
   ]
  },
  {
   "cell_type": "markdown",
   "id": "87a98514",
   "metadata": {},
   "source": [
    "https://pypi.org"
   ]
  },
  {
   "cell_type": "markdown",
   "id": "ea513c46",
   "metadata": {},
   "source": [
    "## Lesson 11: Popular Python Packages"
   ]
  },
  {
   "cell_type": "code",
   "execution_count": null,
   "id": "db49bb0e",
   "metadata": {},
   "outputs": [],
   "source": [
    "Excel Spreadsheets/ PDFs/ Sending Text/ Browser Automation/ Web Scraping(爬虫)"
   ]
  },
  {
   "cell_type": "markdown",
   "id": "e6679976",
   "metadata": {},
   "source": [
    "### 1. Working with Excel Spreadsheets"
   ]
  },
  {
   "cell_type": "code",
   "execution_count": 53,
   "id": "eeddd62d",
   "metadata": {},
   "outputs": [
    {
     "name": "stdout",
     "output_type": "stream",
     "text": [
      "Requirement already satisfied: openpyxl in ./opt/anaconda3/lib/python3.8/site-packages (3.0.7)\n",
      "Requirement already satisfied: et-xmlfile in ./opt/anaconda3/lib/python3.8/site-packages (from openpyxl) (1.0.1)\n",
      "Note: you may need to restart the kernel to use updated packages.\n"
     ]
    }
   ],
   "source": [
    "pip install openpyxl"
   ]
  },
  {
   "cell_type": "code",
   "execution_count": 54,
   "id": "a287e8b5",
   "metadata": {},
   "outputs": [
    {
     "name": "stdout",
     "output_type": "stream",
     "text": [
      "Requirement already satisfied: pylint in ./opt/anaconda3/lib/python3.8/site-packages (2.7.4)\n",
      "Requirement already satisfied: mccabe<0.7,>=0.6 in ./opt/anaconda3/lib/python3.8/site-packages (from pylint) (0.6.1)\n",
      "Requirement already satisfied: isort<6,>=4.2.5 in ./opt/anaconda3/lib/python3.8/site-packages (from pylint) (5.8.0)\n",
      "Collecting astroid<2.7,>=2.5.2\n",
      "  Downloading astroid-2.6.6-py3-none-any.whl (231 kB)\n",
      "\u001b[K     |████████████████████████████████| 231 kB 9.9 MB/s eta 0:00:01\n",
      "\u001b[?25hRequirement already satisfied: toml>=0.7.1 in ./opt/anaconda3/lib/python3.8/site-packages (from pylint) (0.10.2)\n",
      "Requirement already satisfied: setuptools>=20.0 in ./opt/anaconda3/lib/python3.8/site-packages (from astroid<2.7,>=2.5.2->pylint) (52.0.0.post20210125)\n",
      "Requirement already satisfied: lazy-object-proxy>=1.4.0 in ./opt/anaconda3/lib/python3.8/site-packages (from astroid<2.7,>=2.5.2->pylint) (1.6.0)\n",
      "Requirement already satisfied: wrapt<1.13,>=1.11 in ./opt/anaconda3/lib/python3.8/site-packages (from astroid<2.7,>=2.5.2->pylint) (1.12.1)\n",
      "Installing collected packages: astroid\n",
      "  Attempting uninstall: astroid\n",
      "    Found existing installation: astroid 2.5\n",
      "    Uninstalling astroid-2.5:\n",
      "      Successfully uninstalled astroid-2.5\n",
      "Successfully installed astroid-2.6.6\n",
      "Note: you may need to restart the kernel to use updated packages.\n"
     ]
    }
   ],
   "source": [
    "pip install pylint"
   ]
  },
  {
   "cell_type": "code",
   "execution_count": 61,
   "id": "3bbcdc21",
   "metadata": {},
   "outputs": [
    {
     "name": "stdout",
     "output_type": "stream",
     "text": [
      "   transaction_id  product_id  price\n",
      "0            1001           1   5.95\n",
      "1            1002           2   6.95\n",
      "2            1003           3   7.95\n"
     ]
    }
   ],
   "source": [
    "import pandas as pd\n",
    "import numpy as np\n",
    "import os\n",
    "from pandas import Series, DataFrame\n",
    "\n",
    "df = pd.read_excel(\"/Users/xilezhang/OneDrive/transactions.xlsx\")\n",
    "print(df)\n",
    "\n"
   ]
  },
  {
   "cell_type": "markdown",
   "id": "2c7175cc",
   "metadata": {},
   "source": [
    "### 2. Numpy"
   ]
  },
  {
   "cell_type": "markdown",
   "id": "de86d486",
   "metadata": {},
   "source": [
    "array和矩阵(multi-dimensional array)操作，计算..."
   ]
  },
  {
   "cell_type": "code",
   "execution_count": 65,
   "id": "1e75b932",
   "metadata": {},
   "outputs": [
    {
     "name": "stdout",
     "output_type": "stream",
     "text": [
      "[[1 2 3]\n",
      " [4 5 6]]\n",
      "(2, 3)\n"
     ]
    }
   ],
   "source": [
    "import numpy as np\n",
    "\n",
    "array = np.array([1, 2, 3])   #create an array\n",
    "array = np.array([ [1, 2, 3], [4, 5, 6] ])  #create a matrix\n",
    "print(array)\n",
    "print(array.shape)"
   ]
  },
  {
   "cell_type": "code",
   "execution_count": 81,
   "id": "a4db2bc1",
   "metadata": {},
   "outputs": [
    {
     "name": "stdout",
     "output_type": "stream",
     "text": [
      "[[0. 0. 0. 0.]\n",
      " [0. 0. 0. 0.]\n",
      " [0. 0. 0. 0.]]\n",
      "[[0 0 0 0]\n",
      " [0 0 0 0]\n",
      " [0 0 0 0]]\n",
      "[[1 1 1 1]\n",
      " [1 1 1 1]\n",
      " [1 1 1 1]]\n",
      "[[5 5 5 5]\n",
      " [5 5 5 5]\n",
      " [5 5 5 5]]\n"
     ]
    }
   ],
   "source": [
    "zero = np.zeros((3,4))  #默认format是float\n",
    "print(zero)\n",
    "zero = np.zeros((3,4), dtype=int)\n",
    "print(zero)\n",
    "one = np.ones((3,4), dtype=int)\n",
    "print(one)\n",
    "mt = np.full((3,4), 5, dtype=int)\n",
    "print(mt)"
   ]
  },
  {
   "cell_type": "code",
   "execution_count": 83,
   "id": "8650c70d",
   "metadata": {},
   "outputs": [
    {
     "name": "stdout",
     "output_type": "stream",
     "text": [
      "[[0.73923715 0.23978663 0.14264761 0.03618709]\n",
      " [0.80929279 0.90957609 0.86471273 0.03259816]\n",
      " [0.83844544 0.40428528 0.87385118 0.50363784]]\n",
      "0.7392371511861635\n",
      "[0.73923715 0.80929279 0.90957609 0.86471273 0.83844544 0.87385118\n",
      " 0.50363784]\n",
      "6.394257998488148\n",
      "[[0. 0. 0. 0.]\n",
      " [0. 0. 0. 0.]\n",
      " [0. 0. 0. 0.]]\n",
      "[[1. 1. 1. 1.]\n",
      " [1. 1. 1. 1.]\n",
      " [1. 1. 1. 1.]]\n"
     ]
    }
   ],
   "source": [
    "mt_rd = np.random.random((3,4))\n",
    "print(mt_rd)\n",
    "print(mt_rd[0,0])\n",
    "print(mt_rd[mt_rd > 0.5])  #输出结果为一个array\n",
    "print(np.sum(mt_rd))\n",
    "print(np.floor(mt_rd))\n",
    "print(np.ceil(mt_rd))"
   ]
  },
  {
   "cell_type": "code",
   "execution_count": 85,
   "id": "767e47cb",
   "metadata": {},
   "outputs": [
    {
     "name": "stdout",
     "output_type": "stream",
     "text": [
      "[4 6 8]\n",
      "[2.54 5.08 7.62]\n"
     ]
    }
   ],
   "source": [
    "first = np.array([1, 2, 3])\n",
    "second = np.array([3, 4, 5])\n",
    "print(first + second)\n",
    "\n",
    "dimensional_inch = np.array([1, 2, 3])\n",
    "dimensional_cm = dimensional_inch * 2.54\n",
    "print(dimensional_cm)"
   ]
  },
  {
   "cell_type": "markdown",
   "id": "e656b0b0",
   "metadata": {},
   "source": [
    "## Lesson 13: Machine Learning in Python"
   ]
  },
  {
   "cell_type": "markdown",
   "id": "4744ee22",
   "metadata": {},
   "source": [
    "### 1. Machine Learning in Action"
   ]
  },
  {
   "cell_type": "markdown",
   "id": "2e189228",
   "metadata": {},
   "source": [
    "steps:\n",
    "1. import the data\n",
    "2. clean the data\n",
    "3. split the data into training/test sets\n",
    "4. create a model\n",
    "5. train the model\n",
    "6. make prediction\n",
    "7. evaluate and improve"
   ]
  },
  {
   "cell_type": "markdown",
   "id": "2f17cf07",
   "metadata": {},
   "source": [
    "### 2. Libraries and Tools"
   ]
  },
  {
   "cell_type": "markdown",
   "id": "d5633e1a",
   "metadata": {},
   "source": [
    "Packages: Numpy Pandas(提供dataframe) MarPlotLib Scikit-Learn"
   ]
  },
  {
   "cell_type": "markdown",
   "id": "279dadb8",
   "metadata": {},
   "source": [
    "### 3. Importing a Data Set"
   ]
  },
  {
   "cell_type": "code",
   "execution_count": 2,
   "id": "74ded77b",
   "metadata": {
    "scrolled": true
   },
   "outputs": [
    {
     "data": {
      "text/plain": [
       "(16598, 11)"
      ]
     },
     "execution_count": 2,
     "metadata": {},
     "output_type": "execute_result"
    }
   ],
   "source": [
    "import pandas as pd\n",
    "\n",
    "df = pd.read_csv(\"/Users/xilezhang/OneDrive/Python/Jupyter/vgsales.csv\")  #return a dataframe\n",
    "df.shape"
   ]
  },
  {
   "cell_type": "code",
   "execution_count": 4,
   "id": "42126489",
   "metadata": {},
   "outputs": [
    {
     "data": {
      "text/html": [
       "<div>\n",
       "<style scoped>\n",
       "    .dataframe tbody tr th:only-of-type {\n",
       "        vertical-align: middle;\n",
       "    }\n",
       "\n",
       "    .dataframe tbody tr th {\n",
       "        vertical-align: top;\n",
       "    }\n",
       "\n",
       "    .dataframe thead th {\n",
       "        text-align: right;\n",
       "    }\n",
       "</style>\n",
       "<table border=\"1\" class=\"dataframe\">\n",
       "  <thead>\n",
       "    <tr style=\"text-align: right;\">\n",
       "      <th></th>\n",
       "      <th>Rank</th>\n",
       "      <th>Year</th>\n",
       "      <th>NA_Sales</th>\n",
       "      <th>EU_Sales</th>\n",
       "      <th>JP_Sales</th>\n",
       "      <th>Other_Sales</th>\n",
       "      <th>Global_Sales</th>\n",
       "    </tr>\n",
       "  </thead>\n",
       "  <tbody>\n",
       "    <tr>\n",
       "      <th>count</th>\n",
       "      <td>16598.000000</td>\n",
       "      <td>16327.000000</td>\n",
       "      <td>16598.000000</td>\n",
       "      <td>16598.000000</td>\n",
       "      <td>16598.000000</td>\n",
       "      <td>16598.000000</td>\n",
       "      <td>16598.000000</td>\n",
       "    </tr>\n",
       "    <tr>\n",
       "      <th>mean</th>\n",
       "      <td>8300.605254</td>\n",
       "      <td>2006.406443</td>\n",
       "      <td>0.264667</td>\n",
       "      <td>0.146652</td>\n",
       "      <td>0.077782</td>\n",
       "      <td>0.048063</td>\n",
       "      <td>0.537441</td>\n",
       "    </tr>\n",
       "    <tr>\n",
       "      <th>std</th>\n",
       "      <td>4791.853933</td>\n",
       "      <td>5.828981</td>\n",
       "      <td>0.816683</td>\n",
       "      <td>0.505351</td>\n",
       "      <td>0.309291</td>\n",
       "      <td>0.188588</td>\n",
       "      <td>1.555028</td>\n",
       "    </tr>\n",
       "    <tr>\n",
       "      <th>min</th>\n",
       "      <td>1.000000</td>\n",
       "      <td>1980.000000</td>\n",
       "      <td>0.000000</td>\n",
       "      <td>0.000000</td>\n",
       "      <td>0.000000</td>\n",
       "      <td>0.000000</td>\n",
       "      <td>0.010000</td>\n",
       "    </tr>\n",
       "    <tr>\n",
       "      <th>25%</th>\n",
       "      <td>4151.250000</td>\n",
       "      <td>2003.000000</td>\n",
       "      <td>0.000000</td>\n",
       "      <td>0.000000</td>\n",
       "      <td>0.000000</td>\n",
       "      <td>0.000000</td>\n",
       "      <td>0.060000</td>\n",
       "    </tr>\n",
       "    <tr>\n",
       "      <th>50%</th>\n",
       "      <td>8300.500000</td>\n",
       "      <td>2007.000000</td>\n",
       "      <td>0.080000</td>\n",
       "      <td>0.020000</td>\n",
       "      <td>0.000000</td>\n",
       "      <td>0.010000</td>\n",
       "      <td>0.170000</td>\n",
       "    </tr>\n",
       "    <tr>\n",
       "      <th>75%</th>\n",
       "      <td>12449.750000</td>\n",
       "      <td>2010.000000</td>\n",
       "      <td>0.240000</td>\n",
       "      <td>0.110000</td>\n",
       "      <td>0.040000</td>\n",
       "      <td>0.040000</td>\n",
       "      <td>0.470000</td>\n",
       "    </tr>\n",
       "    <tr>\n",
       "      <th>max</th>\n",
       "      <td>16600.000000</td>\n",
       "      <td>2020.000000</td>\n",
       "      <td>41.490000</td>\n",
       "      <td>29.020000</td>\n",
       "      <td>10.220000</td>\n",
       "      <td>10.570000</td>\n",
       "      <td>82.740000</td>\n",
       "    </tr>\n",
       "  </tbody>\n",
       "</table>\n",
       "</div>"
      ],
      "text/plain": [
       "               Rank          Year      NA_Sales      EU_Sales      JP_Sales  \\\n",
       "count  16598.000000  16327.000000  16598.000000  16598.000000  16598.000000   \n",
       "mean    8300.605254   2006.406443      0.264667      0.146652      0.077782   \n",
       "std     4791.853933      5.828981      0.816683      0.505351      0.309291   \n",
       "min        1.000000   1980.000000      0.000000      0.000000      0.000000   \n",
       "25%     4151.250000   2003.000000      0.000000      0.000000      0.000000   \n",
       "50%     8300.500000   2007.000000      0.080000      0.020000      0.000000   \n",
       "75%    12449.750000   2010.000000      0.240000      0.110000      0.040000   \n",
       "max    16600.000000   2020.000000     41.490000     29.020000     10.220000   \n",
       "\n",
       "        Other_Sales  Global_Sales  \n",
       "count  16598.000000  16598.000000  \n",
       "mean       0.048063      0.537441  \n",
       "std        0.188588      1.555028  \n",
       "min        0.000000      0.010000  \n",
       "25%        0.000000      0.060000  \n",
       "50%        0.010000      0.170000  \n",
       "75%        0.040000      0.470000  \n",
       "max       10.570000     82.740000  "
      ]
     },
     "execution_count": 4,
     "metadata": {},
     "output_type": "execute_result"
    }
   ],
   "source": [
    "df.describe()"
   ]
  },
  {
   "cell_type": "code",
   "execution_count": 5,
   "id": "e36270c9",
   "metadata": {},
   "outputs": [
    {
     "data": {
      "text/plain": [
       "array([[1, 'Wii Sports', 'Wii', ..., 3.77, 8.46, 82.74],\n",
       "       [2, 'Super Mario Bros.', 'NES', ..., 6.81, 0.77, 40.24],\n",
       "       [3, 'Mario Kart Wii', 'Wii', ..., 3.79, 3.31, 35.82],\n",
       "       ...,\n",
       "       [16598, 'SCORE International Baja 1000: The Official Game', 'PS2',\n",
       "        ..., 0.0, 0.0, 0.01],\n",
       "       [16599, 'Know How 2', 'DS', ..., 0.0, 0.0, 0.01],\n",
       "       [16600, 'Spirits & Spells', 'GBA', ..., 0.0, 0.0, 0.01]],\n",
       "      dtype=object)"
      ]
     },
     "execution_count": 5,
     "metadata": {},
     "output_type": "execute_result"
    }
   ],
   "source": [
    "df.values"
   ]
  },
  {
   "cell_type": "markdown",
   "id": "d1f2ac74",
   "metadata": {},
   "source": [
    "### 4. Jupyter Shortcuts"
   ]
  },
  {
   "cell_type": "code",
   "execution_count": null,
   "id": "dc8a9bdb",
   "metadata": {},
   "outputs": [],
   "source": [
    "光标移到method，按shift+tab查看这个method的说明\n",
    "command+/ : 备注或取消备注"
   ]
  },
  {
   "cell_type": "markdown",
   "id": "d0c39a9d",
   "metadata": {},
   "source": [
    "### 5. A Real Problem"
   ]
  },
  {
   "cell_type": "markdown",
   "id": "eb3c0e66",
   "metadata": {},
   "source": [
    "#### 5.1 import data"
   ]
  },
  {
   "cell_type": "code",
   "execution_count": 7,
   "id": "52f6354d",
   "metadata": {
    "scrolled": false
   },
   "outputs": [
    {
     "data": {
      "text/html": [
       "<div>\n",
       "<style scoped>\n",
       "    .dataframe tbody tr th:only-of-type {\n",
       "        vertical-align: middle;\n",
       "    }\n",
       "\n",
       "    .dataframe tbody tr th {\n",
       "        vertical-align: top;\n",
       "    }\n",
       "\n",
       "    .dataframe thead th {\n",
       "        text-align: right;\n",
       "    }\n",
       "</style>\n",
       "<table border=\"1\" class=\"dataframe\">\n",
       "  <thead>\n",
       "    <tr style=\"text-align: right;\">\n",
       "      <th></th>\n",
       "      <th>age</th>\n",
       "      <th>gender</th>\n",
       "      <th>genre</th>\n",
       "    </tr>\n",
       "  </thead>\n",
       "  <tbody>\n",
       "    <tr>\n",
       "      <th>0</th>\n",
       "      <td>20</td>\n",
       "      <td>1</td>\n",
       "      <td>HipHop</td>\n",
       "    </tr>\n",
       "    <tr>\n",
       "      <th>1</th>\n",
       "      <td>23</td>\n",
       "      <td>1</td>\n",
       "      <td>HipHop</td>\n",
       "    </tr>\n",
       "    <tr>\n",
       "      <th>2</th>\n",
       "      <td>25</td>\n",
       "      <td>1</td>\n",
       "      <td>HipHop</td>\n",
       "    </tr>\n",
       "    <tr>\n",
       "      <th>3</th>\n",
       "      <td>26</td>\n",
       "      <td>1</td>\n",
       "      <td>Jazz</td>\n",
       "    </tr>\n",
       "    <tr>\n",
       "      <th>4</th>\n",
       "      <td>29</td>\n",
       "      <td>1</td>\n",
       "      <td>Jazz</td>\n",
       "    </tr>\n",
       "    <tr>\n",
       "      <th>5</th>\n",
       "      <td>30</td>\n",
       "      <td>1</td>\n",
       "      <td>Jazz</td>\n",
       "    </tr>\n",
       "    <tr>\n",
       "      <th>6</th>\n",
       "      <td>31</td>\n",
       "      <td>1</td>\n",
       "      <td>Classical</td>\n",
       "    </tr>\n",
       "    <tr>\n",
       "      <th>7</th>\n",
       "      <td>33</td>\n",
       "      <td>1</td>\n",
       "      <td>Classical</td>\n",
       "    </tr>\n",
       "    <tr>\n",
       "      <th>8</th>\n",
       "      <td>37</td>\n",
       "      <td>1</td>\n",
       "      <td>Classical</td>\n",
       "    </tr>\n",
       "    <tr>\n",
       "      <th>9</th>\n",
       "      <td>20</td>\n",
       "      <td>0</td>\n",
       "      <td>Dance</td>\n",
       "    </tr>\n",
       "    <tr>\n",
       "      <th>10</th>\n",
       "      <td>21</td>\n",
       "      <td>0</td>\n",
       "      <td>Dance</td>\n",
       "    </tr>\n",
       "    <tr>\n",
       "      <th>11</th>\n",
       "      <td>25</td>\n",
       "      <td>0</td>\n",
       "      <td>Dance</td>\n",
       "    </tr>\n",
       "    <tr>\n",
       "      <th>12</th>\n",
       "      <td>26</td>\n",
       "      <td>0</td>\n",
       "      <td>Acoustic</td>\n",
       "    </tr>\n",
       "    <tr>\n",
       "      <th>13</th>\n",
       "      <td>27</td>\n",
       "      <td>0</td>\n",
       "      <td>Acoustic</td>\n",
       "    </tr>\n",
       "    <tr>\n",
       "      <th>14</th>\n",
       "      <td>30</td>\n",
       "      <td>0</td>\n",
       "      <td>Acoustic</td>\n",
       "    </tr>\n",
       "    <tr>\n",
       "      <th>15</th>\n",
       "      <td>31</td>\n",
       "      <td>0</td>\n",
       "      <td>Classical</td>\n",
       "    </tr>\n",
       "    <tr>\n",
       "      <th>16</th>\n",
       "      <td>34</td>\n",
       "      <td>0</td>\n",
       "      <td>Classical</td>\n",
       "    </tr>\n",
       "    <tr>\n",
       "      <th>17</th>\n",
       "      <td>35</td>\n",
       "      <td>0</td>\n",
       "      <td>Classical</td>\n",
       "    </tr>\n",
       "  </tbody>\n",
       "</table>\n",
       "</div>"
      ],
      "text/plain": [
       "    age  gender      genre\n",
       "0    20       1     HipHop\n",
       "1    23       1     HipHop\n",
       "2    25       1     HipHop\n",
       "3    26       1       Jazz\n",
       "4    29       1       Jazz\n",
       "5    30       1       Jazz\n",
       "6    31       1  Classical\n",
       "7    33       1  Classical\n",
       "8    37       1  Classical\n",
       "9    20       0      Dance\n",
       "10   21       0      Dance\n",
       "11   25       0      Dance\n",
       "12   26       0   Acoustic\n",
       "13   27       0   Acoustic\n",
       "14   30       0   Acoustic\n",
       "15   31       0  Classical\n",
       "16   34       0  Classical\n",
       "17   35       0  Classical"
      ]
     },
     "execution_count": 7,
     "metadata": {},
     "output_type": "execute_result"
    }
   ],
   "source": [
    "import pandas as pd\n",
    "music_data = pd.read_csv(\"music.csv\")\n",
    "music_data"
   ]
  },
  {
   "cell_type": "markdown",
   "id": "c3c606a0",
   "metadata": {},
   "source": [
    "#### 5.2 clean data"
   ]
  },
  {
   "cell_type": "code",
   "execution_count": 11,
   "id": "48fc3703",
   "metadata": {},
   "outputs": [],
   "source": [
    "X = music_data.drop(columns=[\"genre\"])   #产生一个新的drop掉genre列的dataframe，并不会改变music_data\n",
    "y = music_data[\"genre\"]"
   ]
  },
  {
   "cell_type": "markdown",
   "id": "9055a293",
   "metadata": {},
   "source": [
    "#### 5.3 learning and predicting"
   ]
  },
  {
   "cell_type": "code",
   "execution_count": 12,
   "id": "68c85ec3",
   "metadata": {},
   "outputs": [
    {
     "data": {
      "text/plain": [
       "array(['HipHop', 'Dance'], dtype=object)"
      ]
     },
     "execution_count": 12,
     "metadata": {},
     "output_type": "execute_result"
    }
   ],
   "source": [
    "from sklearn.tree import DecisionTreeClassifier\n",
    "\n",
    "model = DecisionTreeClassifier()\n",
    "model.fit(X, y)\n",
    "predictions = model.predict([ [21, 1], [22, 0] ])\n",
    "predictions"
   ]
  },
  {
   "cell_type": "markdown",
   "id": "c6b65770",
   "metadata": {},
   "source": [
    "#### 5.4 calculating the accuracy"
   ]
  },
  {
   "cell_type": "code",
   "execution_count": 20,
   "id": "6a20890d",
   "metadata": {},
   "outputs": [
    {
     "data": {
      "text/plain": [
       "1.0"
      ]
     },
     "execution_count": 20,
     "metadata": {},
     "output_type": "execute_result"
    }
   ],
   "source": [
    "from sklearn.model_selection import train_test_split\n",
    "from sklearn.metrics import accuracy_score\n",
    "\n",
    "X_train, X_test, y_train, y_test = train_test_split(X, y, test_size=0.2)  #randomly split\n",
    "\n",
    "model = DecisionTreeClassifier()\n",
    "model.fit(X_train, y_train)\n",
    "predictions = model.predict(X_test)\n",
    "\n",
    "score = accuracy_score(y_test, predictions)\n",
    "score"
   ]
  },
  {
   "cell_type": "markdown",
   "id": "f09d4034",
   "metadata": {},
   "source": [
    "#### 5.5 persisting Models"
   ]
  },
  {
   "cell_type": "markdown",
   "id": "912e6b0a",
   "metadata": {},
   "source": [
    "once in a while we build and train a model and then we save it to a file \n",
    "next time when we want to make a prediction, we simply load the model from the file and ask it to make a prediction. we do not need to retrain it."
   ]
  },
  {
   "cell_type": "code",
   "execution_count": 23,
   "id": "53b039fe",
   "metadata": {},
   "outputs": [
    {
     "data": {
      "text/plain": [
       "['music-recommender.joblib']"
      ]
     },
     "execution_count": 23,
     "metadata": {},
     "output_type": "execute_result"
    }
   ],
   "source": [
    "import joblib\n",
    "\n",
    "joblib.dump(model, \"music-recommender.joblib\")\n",
    "#文件夹里会出现music-recommender.joblib这个文件"
   ]
  },
  {
   "cell_type": "code",
   "execution_count": 25,
   "id": "7a29a9da",
   "metadata": {},
   "outputs": [
    {
     "data": {
      "text/plain": [
       "array(['HipHop'], dtype=object)"
      ]
     },
     "execution_count": 25,
     "metadata": {},
     "output_type": "execute_result"
    }
   ],
   "source": [
    "model = joblib.load(\"music-recommender.joblib\")\n",
    "predictions = model.predict([[21, 1]])\n",
    "predictions"
   ]
  },
  {
   "cell_type": "markdown",
   "id": "d9b4d7f0",
   "metadata": {},
   "source": [
    "#### 5.6 Visualizing Decision Trees"
   ]
  },
  {
   "cell_type": "code",
   "execution_count": 26,
   "id": "1c1f0e74",
   "metadata": {},
   "outputs": [],
   "source": [
    "import pandas as pd\n",
    "from sklearn.tree import DecisionTreeClassifier\n",
    "from sklearn import tree\n",
    "\n",
    "music_data = pd.read_csv(\"music.csv\")\n",
    "X = music_data.drop(columns=[\"genre\"])   #产生一个新的drop掉genre列的dataframe，并不会改变music_data\n",
    "y = music_data[\"genre\"]\n",
    "\n",
    "model = DecisionTreeClassifier()\n",
    "model.fit(X, y)\n",
    "\n",
    "#产生的dot文件在VSCode上可以打开\n",
    "tree.export_graphviz(model, out_file=\"music-recommender.dot\",\n",
    "                    feature_names=[\"age\", \"gender\"],\n",
    "                    class_names=sorted(y.unique()),\n",
    "                    label=\"all\",\n",
    "                    rounded=True,\n",
    "                    filled=True)"
   ]
  },
  {
   "cell_type": "code",
   "execution_count": null,
   "id": "ab53f248",
   "metadata": {},
   "outputs": [],
   "source": []
  },
  {
   "cell_type": "code",
   "execution_count": null,
   "id": "39c40950",
   "metadata": {},
   "outputs": [],
   "source": []
  },
  {
   "cell_type": "code",
   "execution_count": null,
   "id": "e412b293",
   "metadata": {},
   "outputs": [],
   "source": []
  },
  {
   "cell_type": "code",
   "execution_count": null,
   "id": "efa8b1eb",
   "metadata": {},
   "outputs": [],
   "source": []
  },
  {
   "cell_type": "code",
   "execution_count": null,
   "id": "92b7eee2",
   "metadata": {},
   "outputs": [],
   "source": []
  }
 ],
 "metadata": {
  "kernelspec": {
   "display_name": "Python 3",
   "language": "python",
   "name": "python3"
  },
  "language_info": {
   "codemirror_mode": {
    "name": "ipython",
    "version": 3
   },
   "file_extension": ".py",
   "mimetype": "text/x-python",
   "name": "python",
   "nbconvert_exporter": "python",
   "pygments_lexer": "ipython3",
   "version": "3.8.8"
  }
 },
 "nbformat": 4,
 "nbformat_minor": 5
}
