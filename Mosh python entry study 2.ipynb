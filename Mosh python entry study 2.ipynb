{
 "cells": [
  {
   "cell_type": "markdown",
   "id": "1e16b86e",
   "metadata": {},
   "source": [
    "## Lesson 7: Classes"
   ]
  },
  {
   "cell_type": "markdown",
   "id": "2ecd1d84",
   "metadata": {},
   "source": [
    "class: blueprint for creating new objects\n",
    "Object: instance of a class\n",
    "类是模板，而实例则是根据类创建的对象\n",
    "\n",
    "eg:\n",
    "Class: Human\n",
    "Objects: John, Mary, Jack..."
   ]
  },
  {
   "cell_type": "markdown",
   "id": "786ce85d",
   "metadata": {},
   "source": [
    "### 1. Creating Classes"
   ]
  },
  {
   "cell_type": "markdown",
   "id": "4dd42db5",
   "metadata": {},
   "source": [
    "class的命名规则：首字母大写；用大写字母来分隔单词 eg. MyPoint"
   ]
  },
  {
   "cell_type": "code",
   "execution_count": 2,
   "id": "42187d1d",
   "metadata": {},
   "outputs": [
    {
     "name": "stdout",
     "output_type": "stream",
     "text": [
      "draw\n",
      "True\n"
     ]
    }
   ],
   "source": [
    "class Point:\n",
    "    def draw(self):     \n",
    "        print(\"draw\") \n",
    "        \n",
    "point = Point()  #创建一个实例(instance)\n",
    "point.draw()\n",
    "print(isinstance(point, Point))"
   ]
  },
  {
   "cell_type": "markdown",
   "id": "f2f53dd1",
   "metadata": {},
   "source": [
    "### 2. Constructors"
   ]
  },
  {
   "cell_type": "code",
   "execution_count": 12,
   "id": "66fc7431",
   "metadata": {},
   "outputs": [
    {
     "name": "stdout",
     "output_type": "stream",
     "text": [
      "1\n",
      "Point (1, 2)\n"
     ]
    }
   ],
   "source": [
    "class Point:\n",
    "    def __init__(self, x, y):    #define constructor; self这里指的是the current object that you're working with; x,y指的是创建的method\n",
    "        self.x = x     #创建实例属性\n",
    "        self.y = y\n",
    "\n",
    "    def draw(self):     \n",
    "        print(f\"Point ({self.x}, {self.y})\")\n",
    "              \n",
    "              \n",
    "point = Point(1, 2)\n",
    "print(point.x)\n",
    "point.draw()"
   ]
  },
  {
   "cell_type": "markdown",
   "id": "1c9bb925",
   "metadata": {},
   "source": [
    "### 3. Class vs Instance Attributes"
   ]
  },
  {
   "cell_type": "code",
   "execution_count": 16,
   "id": "706ec08f",
   "metadata": {},
   "outputs": [
    {
     "name": "stdout",
     "output_type": "stream",
     "text": [
      "red\n",
      "yellow\n"
     ]
    }
   ],
   "source": [
    "class Point:\n",
    "    default_color = \"red\"  #创建类属性class attribute\n",
    "    \n",
    "    def __init__(self, x, y):    #self这里指的是the current object that you're working with; x,y指的是创建的method\n",
    "        self.x = x     #创建实例属性instance attribute\n",
    "        self.y = y\n",
    "\n",
    "    def draw(self):     \n",
    "        print(f\"Point ({self.x}, {self.y})\")\n",
    "     \n",
    "    \n",
    "    \n",
    "point = Point(1, 2)\n",
    "print(point.default_color)\n",
    "Point.default_color = \"yellow\"  #可以在外面修改\n",
    "print(point.default_color)"
   ]
  },
  {
   "cell_type": "markdown",
   "id": "faca8e87",
   "metadata": {},
   "source": [
    "### 4. Class vs Instance Methods"
   ]
  },
  {
   "cell_type": "code",
   "execution_count": 19,
   "id": "fa1ea89f",
   "metadata": {},
   "outputs": [
    {
     "name": "stdout",
     "output_type": "stream",
     "text": [
      "Point (0, 0)\n"
     ]
    }
   ],
   "source": [
    "class Point:\n",
    "    default_color = \"red\"  #创建类属性class attribute\n",
    "    \n",
    "    def __init__(self, x, y):    #self这里指的是the current object that you're working with; x,y指的是创建的method\n",
    "        self.x = x     #创建实例属性instance attribute\n",
    "        self.y = y\n",
    "    \n",
    "    @classmethod      #创建class method\n",
    "    def zero(cls):\n",
    "        return cls(0,0)   #等同于Point(0,0)\n",
    "        \n",
    "    def draw(self):     \n",
    "        print(f\"Point ({self.x}, {self.y})\")\n",
    "        \n",
    "point = Point.zero()\n",
    "point.draw()"
   ]
  },
  {
   "cell_type": "markdown",
   "id": "5889b162",
   "metadata": {},
   "source": [
    "### 5. Magic Methods"
   ]
  },
  {
   "cell_type": "markdown",
   "id": "bddc496c",
   "metadata": {},
   "source": [
    "Google python 3 magic methods\n",
    "website: A Guide to Python's Magic Methods"
   ]
  },
  {
   "cell_type": "code",
   "execution_count": 25,
   "id": "8f0f4acc",
   "metadata": {},
   "outputs": [
    {
     "name": "stdout",
     "output_type": "stream",
     "text": [
      "(1, 2)\n"
     ]
    }
   ],
   "source": [
    "class Point:\n",
    "    def __init__(self, x, y):    #self这里指的是the current object that you're working with; x,y指的是创建的method\n",
    "        self.x = x     #创建实例属性instance attribute\n",
    "        self.y = y\n",
    "    \n",
    "    def __str__(self):   #创建magic methods\n",
    "        return f\"({self.x}, {self.y})\"\n",
    "        \n",
    "    def draw(self):     \n",
    "        print(f\"Point ({self.x}, {self.y})\")\n",
    "        \n",
    "point = Point(1, 2)\n",
    "print(str(point))"
   ]
  },
  {
   "cell_type": "markdown",
   "id": "b727c598",
   "metadata": {},
   "source": [
    "#### 5.1 Comparing Objects "
   ]
  },
  {
   "cell_type": "code",
   "execution_count": 26,
   "id": "e1e93542",
   "metadata": {},
   "outputs": [
    {
     "name": "stdout",
     "output_type": "stream",
     "text": [
      "False\n"
     ]
    }
   ],
   "source": [
    "point = Point(1, 2)\n",
    "other = Point(1, 2)\n",
    "print(point == other)   #these two variables are referencing two different objects in memory"
   ]
  },
  {
   "cell_type": "code",
   "execution_count": 30,
   "id": "33d9de8f",
   "metadata": {},
   "outputs": [
    {
     "name": "stdout",
     "output_type": "stream",
     "text": [
      "True\n",
      "False\n"
     ]
    }
   ],
   "source": [
    "class Point:\n",
    "    def __init__(self, x, y):    #self这里指的是the current object that you're working with; x,y指的是创建的method\n",
    "        self.x = x     #创建实例属性instance attribute\n",
    "        self.y = y\n",
    "        \n",
    "    def __eq__(self, other):\n",
    "        return self.x == other.x and self.y == other.y\n",
    "    \n",
    "    def __gt__(self, other):    #greater than的缩写\n",
    "        return self.x > other.x and self.y > other.y\n",
    "    \n",
    "point = Point(10, 20)\n",
    "other = Point(1, 2)\n",
    "print(point > other)\n",
    "print(point < other)  #不用再去定义__lt__"
   ]
  },
  {
   "cell_type": "markdown",
   "id": "234c6200",
   "metadata": {},
   "source": [
    "#### 5.2 Supporting Arithmetic Operations"
   ]
  },
  {
   "cell_type": "code",
   "execution_count": 31,
   "id": "28b86490",
   "metadata": {},
   "outputs": [
    {
     "name": "stdout",
     "output_type": "stream",
     "text": [
      "11\n"
     ]
    }
   ],
   "source": [
    "class Point:\n",
    "    def __init__(self, x, y):    #self这里指的是the current object that you're working with; x,y指的是创建的method\n",
    "        self.x = x     #创建实例属性instance attribute\n",
    "        self.y = y\n",
    "    def __add__(self, other):\n",
    "        return Point(self.x + other.x, self.y + other.y)\n",
    "    \n",
    "point = Point(10, 20)\n",
    "other = Point(1, 2)\n",
    "combined = point + other\n",
    "print(combined.x)"
   ]
  },
  {
   "cell_type": "markdown",
   "id": "ec18c4b8",
   "metadata": {},
   "source": [
    "### 6. Creating Custom Containers"
   ]
  },
  {
   "cell_type": "code",
   "execution_count": 41,
   "id": "0f8a12be",
   "metadata": {},
   "outputs": [
    {
     "name": "stdout",
     "output_type": "stream",
     "text": [
      "{'python': 3}\n",
      "1\n",
      "3\n",
      "3\n"
     ]
    }
   ],
   "source": [
    "class TagCloud:\n",
    "    def __init__(self):\n",
    "        self.tags = {}\n",
    "    \n",
    "    def add(self, tag):\n",
    "        self.tags[tag.lower()]= self.tags.get(tag.lower(), 0) + 1  \n",
    "        #Python 字典(Dictionary) get() 函数返回指定键的值: dict.get(key, default=None)\n",
    "        #key -- 字典中要查找的键,default -- 如果指定键的值不存在时，返回该默认值。\n",
    "\n",
    "    def __getitem__(self, tag):\n",
    "        return self.tags.get(tag.lower(), 0)\n",
    "    \n",
    "    def __setitem__(self, tag, count):\n",
    "        self.tags[tag.lower()] = count\n",
    "    \n",
    "    def __len__(self):\n",
    "        return len(self.tags)\n",
    "    \n",
    "    def __iter__(self):\n",
    "        return iter(self.tags)\n",
    "    \n",
    "cloud = TagCloud()\n",
    "cloud.add(\"Python\")\n",
    "cloud.add(\"python\")\n",
    "cloud.add(\"python\")\n",
    "print(cloud.tags)\n",
    "print(len(cloud))\n",
    "print(cloud[\"python\"])\n",
    "print(cloud[\"Python\"])"
   ]
  },
  {
   "cell_type": "markdown",
   "id": "475fa6ba",
   "metadata": {},
   "source": [
    "#### 6.1. Private Members"
   ]
  },
  {
   "cell_type": "markdown",
   "id": "e38590f6",
   "metadata": {},
   "source": [
    "更像一种警告：不要访问这个attribute"
   ]
  },
  {
   "cell_type": "code",
   "execution_count": 43,
   "id": "fcaa9fd3",
   "metadata": {},
   "outputs": [
    {
     "name": "stdout",
     "output_type": "stream",
     "text": [
      "3\n"
     ]
    },
    {
     "ename": "KeyError",
     "evalue": "'PYTHON'",
     "output_type": "error",
     "traceback": [
      "\u001b[0;31m---------------------------------------------------------------------------\u001b[0m",
      "\u001b[0;31mKeyError\u001b[0m                                  Traceback (most recent call last)",
      "\u001b[0;32m<ipython-input-43-de8d75f47164>\u001b[0m in \u001b[0;36m<module>\u001b[0;34m\u001b[0m\n\u001b[1;32m      1\u001b[0m \u001b[0mprint\u001b[0m\u001b[0;34m(\u001b[0m\u001b[0mcloud\u001b[0m\u001b[0;34m[\u001b[0m\u001b[0;34m\"PYTHON\"\u001b[0m\u001b[0;34m]\u001b[0m\u001b[0;34m)\u001b[0m\u001b[0;34m\u001b[0m\u001b[0;34m\u001b[0m\u001b[0m\n\u001b[0;32m----> 2\u001b[0;31m \u001b[0mprint\u001b[0m\u001b[0;34m(\u001b[0m\u001b[0mcloud\u001b[0m\u001b[0;34m.\u001b[0m\u001b[0mtags\u001b[0m\u001b[0;34m[\u001b[0m\u001b[0;34m\"PYTHON\"\u001b[0m\u001b[0;34m]\u001b[0m\u001b[0;34m)\u001b[0m\u001b[0;34m\u001b[0m\u001b[0;34m\u001b[0m\u001b[0m\n\u001b[0m",
      "\u001b[0;31mKeyError\u001b[0m: 'PYTHON'"
     ]
    }
   ],
   "source": [
    "print(cloud[\"PYTHON\"])\n",
    "print(cloud.tags[\"PYTHON\"])   #.tags不应该被访问"
   ]
  },
  {
   "cell_type": "code",
   "execution_count": 49,
   "id": "d27767c8",
   "metadata": {},
   "outputs": [
    {
     "ename": "AttributeError",
     "evalue": "'TagCloud' object has no attribute '__tags'",
     "output_type": "error",
     "traceback": [
      "\u001b[0;31m---------------------------------------------------------------------------\u001b[0m",
      "\u001b[0;31mAttributeError\u001b[0m                            Traceback (most recent call last)",
      "\u001b[0;32m<ipython-input-49-f2cadc6fe4ff>\u001b[0m in \u001b[0;36m<module>\u001b[0;34m\u001b[0m\n\u001b[1;32m     20\u001b[0m         \u001b[0;32mreturn\u001b[0m \u001b[0miter\u001b[0m\u001b[0;34m(\u001b[0m\u001b[0mself\u001b[0m\u001b[0;34m.\u001b[0m\u001b[0m__tags\u001b[0m\u001b[0;34m)\u001b[0m\u001b[0;34m\u001b[0m\u001b[0;34m\u001b[0m\u001b[0m\n\u001b[1;32m     21\u001b[0m \u001b[0;34m\u001b[0m\u001b[0m\n\u001b[0;32m---> 22\u001b[0;31m \u001b[0mprint\u001b[0m\u001b[0;34m(\u001b[0m\u001b[0mcloud\u001b[0m\u001b[0;34m.\u001b[0m\u001b[0m__tags\u001b[0m\u001b[0;34m[\u001b[0m\u001b[0;34m\"PYTHON\"\u001b[0m\u001b[0;34m]\u001b[0m\u001b[0;34m)\u001b[0m\u001b[0;34m\u001b[0m\u001b[0;34m\u001b[0m\u001b[0m\n\u001b[0m",
      "\u001b[0;31mAttributeError\u001b[0m: 'TagCloud' object has no attribute '__tags'"
     ]
    }
   ],
   "source": [
    "class TagCloud:\n",
    "    def __init__(self):\n",
    "        self.__tags = {}  #在tags前面加__使它成为私有属性: make it unaccessible from the outside\n",
    "    \n",
    "    def add(self, tag):\n",
    "        self.__tags[tag.lower()]= self.tags.get(tag.lower(), 0) + 1  \n",
    "        #Python 字典(Dictionary) get() 函数返回指定键的值: dict.get(key, default=None)\n",
    "        #key -- 字典中要查找的键,default -- 如果指定键的值不存在时，返回该默认值。\n",
    "\n",
    "    def __getitem__(self, tag):\n",
    "        return self.__tags.get(tag.lower(), 0)\n",
    "    \n",
    "    def __setitem__(self, tag, count):\n",
    "        self.__tags[tag.lower()] = count\n",
    "    \n",
    "    def __len__(self):\n",
    "        return len(self.__tags)\n",
    "    \n",
    "    def __iter__(self):\n",
    "        return iter(self.__tags)\n",
    "\n",
    "print(cloud.__tags[\"PYTHON\"])"
   ]
  },
  {
   "cell_type": "markdown",
   "id": "67a37ba8",
   "metadata": {},
   "source": [
    "### 7. Properties"
   ]
  },
  {
   "cell_type": "code",
   "execution_count": 55,
   "id": "28376d08",
   "metadata": {},
   "outputs": [
    {
     "name": "stdout",
     "output_type": "stream",
     "text": [
      "10\n"
     ]
    }
   ],
   "source": [
    "class Product:\n",
    "    def __init__(self, price):\n",
    "        self.price = price\n",
    "    \n",
    "    @property    #decorator\n",
    "    def price(self):\n",
    "        return self.__price\n",
    "    \n",
    "    @price.setter\n",
    "    def price(self, value):\n",
    "        if value < 0:\n",
    "            raise ValueError(\"Price cannot be negative.\")\n",
    "        self.__price = value\n",
    "        \n",
    "\n",
    "    \n",
    "product = Product(10)\n",
    "#如果把 @price.setter那一段代码注释掉，则无法reset price的值\n",
    "print(product.price)"
   ]
  },
  {
   "cell_type": "markdown",
   "id": "9d34b033",
   "metadata": {},
   "source": [
    "### 8. Inheritance"
   ]
  },
  {
   "cell_type": "code",
   "execution_count": null,
   "id": "e9d65d25",
   "metadata": {},
   "outputs": [],
   "source": [
    "#wrong example. Don't repeat yourself\n",
    "class Mammal:\n",
    "    def eat(self):\n",
    "        print(\"eat\")\n",
    "        \n",
    "    def walk(self):\n",
    "        print(\"walk\")\n",
    "\n",
    "class Fish:\n",
    "    def eat(self):\n",
    "        print(\"eat\")\n",
    "        \n",
    "    def swim(self):\n",
    "        print(\"swim\")"
   ]
  },
  {
   "cell_type": "code",
   "execution_count": 57,
   "id": "bcb32a2f",
   "metadata": {},
   "outputs": [
    {
     "name": "stdout",
     "output_type": "stream",
     "text": [
      "eat\n",
      "1\n"
     ]
    }
   ],
   "source": [
    "class Animal:\n",
    "    def __init__(self):\n",
    "        self.age = 1\n",
    "    \n",
    "    def eat(self):\n",
    "        print(\"eat\")\n",
    "\n",
    "#Animal: Parent. Base\n",
    "#Mammal: Child, Sub\n",
    "class Mammal(Animal):   \n",
    "    def walk(self):\n",
    "        print(\"walk\")\n",
    "\n",
    "class Fish(Animal):\n",
    "    def swim(self):\n",
    "        print(\"swim\")\n",
    "\n",
    "m = Mammal()\n",
    "m.eat()\n",
    "print(m.age)"
   ]
  },
  {
   "cell_type": "markdown",
   "id": "0c4ad552",
   "metadata": {},
   "source": [
    "#### 8.1. The Object Class"
   ]
  },
  {
   "cell_type": "code",
   "execution_count": 64,
   "id": "4b8450e8",
   "metadata": {},
   "outputs": [
    {
     "name": "stdout",
     "output_type": "stream",
     "text": [
      "True\n",
      "True\n",
      "True\n",
      "True\n"
     ]
    }
   ],
   "source": [
    "# In python, there is a class called object. It is the base class for all objects.\n",
    "m = Mammal()\n",
    "print(isinstance(m, Mammal))\n",
    "print(isinstance(m, Animal))\n",
    "print(isinstance(m, object))\n",
    "o = object()\n",
    "print(issubclass(Mammal,Animal))\n"
   ]
  },
  {
   "cell_type": "markdown",
   "id": "66321460",
   "metadata": {},
   "source": [
    "#### 8.2. Method Overriding"
   ]
  },
  {
   "cell_type": "code",
   "execution_count": 67,
   "id": "05825d89",
   "metadata": {},
   "outputs": [
    {
     "name": "stdout",
     "output_type": "stream",
     "text": [
      "Animal Constructor\n",
      "Mammal Constructor\n",
      "1\n",
      "2\n"
     ]
    }
   ],
   "source": [
    "class Animal:\n",
    "    def __init__(self):\n",
    "        print(\"Animal Constructor\")\n",
    "        self.age = 1\n",
    "    \n",
    "    def eat(self):\n",
    "        print(\"eat\")\n",
    "\n",
    "class Mammal(Animal):  \n",
    "    def __init__(self):\n",
    "        super().__init__()   \n",
    "        #位置在这里，则先call Animal Constructor; \n",
    "        #如果位置在self.weight = 2下面，则先call Mammal Constructor\n",
    "        print(\"Mammal Constructor\")  #method overriding的解决方法\n",
    "        self.weight = 2    \n",
    "    #Overriding: this constructor replace the constructor in bas(Animal) class\n",
    "    \n",
    "    def walk(self):\n",
    "        print(\"walk\")\n",
    "\n",
    "m = Mammal()\n",
    "print(m.age)\n",
    "print(m.weight)"
   ]
  },
  {
   "cell_type": "markdown",
   "id": "2ee89ea1",
   "metadata": {},
   "source": [
    "#### 8.3 Multi-level Inheritance"
   ]
  },
  {
   "cell_type": "markdown",
   "id": "0689e632",
   "metadata": {},
   "source": [
    "too much inheritance between classes will increase complexity and introduce various kinds of issues"
   ]
  },
  {
   "cell_type": "markdown",
   "id": "ec0dda0e",
   "metadata": {},
   "source": [
    "最好只有 1-2 level"
   ]
  },
  {
   "cell_type": "markdown",
   "id": "6933022d",
   "metadata": {},
   "source": [
    "#### 8.4 Multiple Inheritance"
   ]
  },
  {
   "cell_type": "markdown",
   "id": "d0d86d94",
   "metadata": {},
   "source": [
    "最好是对于不相关的classes来Multiple Inheritance"
   ]
  },
  {
   "cell_type": "code",
   "execution_count": 69,
   "id": "3bc4ed99",
   "metadata": {},
   "outputs": [
    {
     "name": "stdout",
     "output_type": "stream",
     "text": [
      "Employee Greet\n",
      "Person Greet\n"
     ]
    }
   ],
   "source": [
    "#bad example\n",
    "class Employee:\n",
    "    def greet(self):\n",
    "        print(\"Employee Greet\")\n",
    "        \n",
    "class Person:\n",
    "    def greet(self):\n",
    "        print(\"Person Greet\")\n",
    "    \n",
    "class Manager(Employee, Person):  #inheritant from multiple classes\n",
    "    pass\n",
    "\n",
    "manager = Manager()\n",
    "manager.greet()  #因为Employee在先\n",
    "\n",
    "class Manager(Person, Employee):  #inheritant from multiple classes\n",
    "    pass\n",
    "\n",
    "manager = Manager()\n",
    "manager.greet()  #因为Person在先"
   ]
  },
  {
   "cell_type": "code",
   "execution_count": null,
   "id": "d079b033",
   "metadata": {},
   "outputs": [],
   "source": [
    "#good example: Flyer and Swimmer are small classes and have nothing in common\n",
    "class Flyer:\n",
    "    def fly(self):\n",
    "        pass\n",
    "\n",
    "class Swimmer:\n",
    "    def swim(self):\n",
    "        pass\n",
    "    \n",
    "class FlyingFish(Flyer, Swimmer):\n",
    "    pass"
   ]
  },
  {
   "cell_type": "markdown",
   "id": "21074e6d",
   "metadata": {},
   "source": [
    "#### 8.5 A Good Example of Inheritance"
   ]
  },
  {
   "cell_type": "code",
   "execution_count": 70,
   "id": "f4871e13",
   "metadata": {},
   "outputs": [],
   "source": [
    "class InvalidOperationError(Exception):\n",
    "    pass\n",
    "\n",
    "class Stream:\n",
    "    def __init__(self):\n",
    "        self.opened = False\n",
    "    \n",
    "    def open(self):\n",
    "        if self.opened:\n",
    "            raise InvalidOperationError(\"Stream is already opened\")\n",
    "        self.opened = True\n",
    "    \n",
    "    def open(self):\n",
    "        if not self.opened:\n",
    "            raise InvalidOperationError(\"Stream is already opened\")\n",
    "        self.opened = False\n",
    "        \n",
    "class FileStream(Stream):\n",
    "    def read(self):\n",
    "        print(\"Reading data from a file\")\n",
    "        \n",
    "class NetworkStream(Stream):\n",
    "    def read(self):\n",
    "        print(\"Reading data from a network\")"
   ]
  },
  {
   "cell_type": "markdown",
   "id": "bda09edc",
   "metadata": {},
   "source": [
    "### 9. Abstract Base Classes"
   ]
  },
  {
   "cell_type": "code",
   "execution_count": 72,
   "id": "a93239bb",
   "metadata": {},
   "outputs": [
    {
     "ename": "InvalidOperationError",
     "evalue": "Stream is already opened",
     "output_type": "error",
     "traceback": [
      "\u001b[0;31m---------------------------------------------------------------------------\u001b[0m",
      "\u001b[0;31mInvalidOperationError\u001b[0m                     Traceback (most recent call last)",
      "\u001b[0;32m<ipython-input-72-7b14efacee72>\u001b[0m in \u001b[0;36m<module>\u001b[0;34m\u001b[0m\n\u001b[1;32m     35\u001b[0m \u001b[0;34m\u001b[0m\u001b[0m\n\u001b[1;32m     36\u001b[0m \u001b[0mstream\u001b[0m \u001b[0;34m=\u001b[0m \u001b[0mMemoryStream\u001b[0m\u001b[0;34m(\u001b[0m\u001b[0;34m)\u001b[0m\u001b[0;34m\u001b[0m\u001b[0;34m\u001b[0m\u001b[0m\n\u001b[0;32m---> 37\u001b[0;31m \u001b[0mstream\u001b[0m\u001b[0;34m.\u001b[0m\u001b[0mopen\u001b[0m\u001b[0;34m(\u001b[0m\u001b[0;34m)\u001b[0m\u001b[0;34m\u001b[0m\u001b[0;34m\u001b[0m\u001b[0m\n\u001b[0m",
      "\u001b[0;32m<ipython-input-72-7b14efacee72>\u001b[0m in \u001b[0;36mopen\u001b[0;34m(self)\u001b[0m\n\u001b[1;32m     15\u001b[0m     \u001b[0;32mdef\u001b[0m \u001b[0mopen\u001b[0m\u001b[0;34m(\u001b[0m\u001b[0mself\u001b[0m\u001b[0;34m)\u001b[0m\u001b[0;34m:\u001b[0m\u001b[0;34m\u001b[0m\u001b[0;34m\u001b[0m\u001b[0m\n\u001b[1;32m     16\u001b[0m         \u001b[0;32mif\u001b[0m \u001b[0;32mnot\u001b[0m \u001b[0mself\u001b[0m\u001b[0;34m.\u001b[0m\u001b[0mopened\u001b[0m\u001b[0;34m:\u001b[0m\u001b[0;34m\u001b[0m\u001b[0;34m\u001b[0m\u001b[0m\n\u001b[0;32m---> 17\u001b[0;31m             \u001b[0;32mraise\u001b[0m \u001b[0mInvalidOperationError\u001b[0m\u001b[0;34m(\u001b[0m\u001b[0;34m\"Stream is already opened\"\u001b[0m\u001b[0;34m)\u001b[0m\u001b[0;34m\u001b[0m\u001b[0;34m\u001b[0m\u001b[0m\n\u001b[0m\u001b[1;32m     18\u001b[0m         \u001b[0mself\u001b[0m\u001b[0;34m.\u001b[0m\u001b[0mopened\u001b[0m \u001b[0;34m=\u001b[0m \u001b[0;32mFalse\u001b[0m\u001b[0;34m\u001b[0m\u001b[0;34m\u001b[0m\u001b[0m\n\u001b[1;32m     19\u001b[0m \u001b[0;34m\u001b[0m\u001b[0m\n",
      "\u001b[0;31mInvalidOperationError\u001b[0m: Stream is already opened"
     ]
    }
   ],
   "source": [
    "from abc import ABC, abstractclassmethod\n",
    "\n",
    "class InvalidOperationError(Exception):\n",
    "    pass\n",
    "\n",
    "class Stream(ABC):     #设置ABC为它的base class，则无法用Stream来创造instance\n",
    "    def __init__(self):\n",
    "        self.opened = False\n",
    "    \n",
    "    def open(self):\n",
    "        if self.opened:\n",
    "            raise InvalidOperationError(\"Stream is already opened\")\n",
    "        self.opened = True\n",
    "    \n",
    "    def open(self):\n",
    "        if not self.opened:\n",
    "            raise InvalidOperationError(\"Stream is already opened\")\n",
    "        self.opened = False\n",
    "        \n",
    "    @abstractclassmethod\n",
    "    def read(self):\n",
    "        pass\n",
    "    \n",
    "class FileStream(Stream):\n",
    "    def read(self):\n",
    "        print(\"Reading data from a file\")\n",
    "        \n",
    "class NetworkStream(Stream):\n",
    "    def read(self):\n",
    "        print(\"Reading data from a network\")\n",
    "\n",
    "class MemoryStream(Stream):\n",
    "    def read(self):\n",
    "        print(\"Reading data from a memory stream\")\n",
    "\n",
    "stream = MemoryStream()\n",
    "stream.open()"
   ]
  },
  {
   "cell_type": "markdown",
   "id": "653d9870",
   "metadata": {},
   "source": [
    "### 10. Polymorphism"
   ]
  },
  {
   "cell_type": "code",
   "execution_count": 77,
   "id": "50d08de7",
   "metadata": {},
   "outputs": [
    {
     "name": "stdout",
     "output_type": "stream",
     "text": [
      "DropDownList\n",
      "TextBox\n"
     ]
    }
   ],
   "source": [
    "from abc import ABC, abstractclassmethod\n",
    "\n",
    "class UIControl(ABC):\n",
    "    @abstractclassmethod\n",
    "    def draw(self):\n",
    "        pass\n",
    "    \n",
    "class TextBox(UIControl):\n",
    "    def draw(self):\n",
    "        print(\"TextBox\")\n",
    "        \n",
    "class DropDownList(UIControl):\n",
    "    def draw(self):\n",
    "        print(\"DropDownList\")\n",
    "        \n",
    "def draw(controls):\n",
    "    for control in controls:\n",
    "        control.draw()\n",
    "    \n",
    "ddl = DropDownList()\n",
    "textbox = TextBox()\n",
    "draw([ddl, textbox])"
   ]
  },
  {
   "cell_type": "markdown",
   "id": "2ae4ffd2",
   "metadata": {},
   "source": [
    "#### 10.1 Duck Typing"
   ]
  },
  {
   "cell_type": "markdown",
   "id": "3827738c",
   "metadata": {},
   "source": [
    "在上面那段coding中, draw function 并不在乎control是否来源于UIControl, 只要它有.draw()这个method就可以了"
   ]
  },
  {
   "cell_type": "markdown",
   "id": "7b864535",
   "metadata": {},
   "source": [
    "If it walks like a duck and quacks like a duck, it is a duck"
   ]
  },
  {
   "cell_type": "markdown",
   "id": "612856e9",
   "metadata": {},
   "source": [
    "### 11. Extending Built-in Types"
   ]
  },
  {
   "cell_type": "code",
   "execution_count": 80,
   "id": "48e6bfb9",
   "metadata": {},
   "outputs": [
    {
     "name": "stdout",
     "output_type": "stream",
     "text": [
      "python\n",
      "PythonPython\n"
     ]
    }
   ],
   "source": [
    "class Text(str):\n",
    "    def duplicate(self):\n",
    "        return self + self\n",
    "    \n",
    "text = Text(\"Python\")\n",
    "print(text.lower())\n",
    "print(text.duplicate())"
   ]
  },
  {
   "cell_type": "code",
   "execution_count": 81,
   "id": "40fe7238",
   "metadata": {},
   "outputs": [
    {
     "name": "stdout",
     "output_type": "stream",
     "text": [
      "Append called\n"
     ]
    }
   ],
   "source": [
    "class Text(str):\n",
    "    def duplicate(self):\n",
    "        return self + self\n",
    "    \n",
    "class TrackableList(list):\n",
    "    def append(self, object):\n",
    "        print(\"Append called\")\n",
    "        super().append(object)\n",
    "\n",
    "list = TrackableList()\n",
    "list.append(\"1\")"
   ]
  },
  {
   "cell_type": "markdown",
   "id": "a18554d7",
   "metadata": {},
   "source": [
    "### 12. Data Classes"
   ]
  },
  {
   "cell_type": "code",
   "execution_count": 82,
   "id": "ac808a04",
   "metadata": {},
   "outputs": [
    {
     "name": "stdout",
     "output_type": "stream",
     "text": [
      "True\n"
     ]
    }
   ],
   "source": [
    "from collections import namedtuple\n",
    "\n",
    "Point = namedtuple(\"Point\",[\"x\",\"y\"])    #cannot be modified once created\n",
    "p1 = Point(x=1, y=2)\n",
    "p2 = Point(x=1, y=2)\n",
    "print(p1 == p2)"
   ]
  },
  {
   "cell_type": "code",
   "execution_count": null,
   "id": "f68a4dd9",
   "metadata": {},
   "outputs": [],
   "source": []
  },
  {
   "cell_type": "code",
   "execution_count": null,
   "id": "2a89f32c",
   "metadata": {},
   "outputs": [],
   "source": []
  },
  {
   "cell_type": "code",
   "execution_count": null,
   "id": "58828560",
   "metadata": {},
   "outputs": [],
   "source": []
  },
  {
   "cell_type": "code",
   "execution_count": null,
   "id": "52b1c757",
   "metadata": {},
   "outputs": [],
   "source": []
  },
  {
   "cell_type": "code",
   "execution_count": null,
   "id": "3f57218b",
   "metadata": {},
   "outputs": [],
   "source": []
  },
  {
   "cell_type": "code",
   "execution_count": null,
   "id": "b455a0f7",
   "metadata": {},
   "outputs": [],
   "source": []
  },
  {
   "cell_type": "code",
   "execution_count": null,
   "id": "0ab22ebc",
   "metadata": {},
   "outputs": [],
   "source": []
  },
  {
   "cell_type": "code",
   "execution_count": null,
   "id": "799f6591",
   "metadata": {},
   "outputs": [],
   "source": []
  },
  {
   "cell_type": "code",
   "execution_count": null,
   "id": "dcac7f28",
   "metadata": {},
   "outputs": [],
   "source": []
  },
  {
   "cell_type": "code",
   "execution_count": null,
   "id": "eee8ab4a",
   "metadata": {},
   "outputs": [],
   "source": []
  },
  {
   "cell_type": "code",
   "execution_count": null,
   "id": "9d470770",
   "metadata": {},
   "outputs": [],
   "source": []
  },
  {
   "cell_type": "code",
   "execution_count": null,
   "id": "6160ee69",
   "metadata": {},
   "outputs": [],
   "source": []
  },
  {
   "cell_type": "code",
   "execution_count": null,
   "id": "d96c51e6",
   "metadata": {},
   "outputs": [],
   "source": []
  }
 ],
 "metadata": {
  "kernelspec": {
   "display_name": "Python 3",
   "language": "python",
   "name": "python3"
  },
  "language_info": {
   "codemirror_mode": {
    "name": "ipython",
    "version": 3
   },
   "file_extension": ".py",
   "mimetype": "text/x-python",
   "name": "python",
   "nbconvert_exporter": "python",
   "pygments_lexer": "ipython3",
   "version": "3.8.8"
  }
 },
 "nbformat": 4,
 "nbformat_minor": 5
}
